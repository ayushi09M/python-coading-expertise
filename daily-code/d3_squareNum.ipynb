{
 "cells": [
  {
   "cell_type": "markdown",
   "id": "c686f922",
   "metadata": {},
   "source": [
    "Day3: Program1  \n",
    "Write a function called square_number(num) that:  \n",
    "Takes a number as input & Returns its square & Prints the result  \n",
    "👉 Example:  \n",
    "Input: 4    \n",
    "Output: 16  "
   ]
  },
  {
   "cell_type": "code",
   "execution_count": 2,
   "id": "2bb9e3f1",
   "metadata": {},
   "outputs": [
    {
     "name": "stdout",
     "output_type": "stream",
     "text": [
      "Sqaure of given num:  25\n"
     ]
    }
   ],
   "source": [
    "num = int(input(\"Please enter a num :\"))\n",
    "\n",
    "# Function to square a given num\n",
    "def square_num(num):\n",
    "    res = num*num\n",
    "    return res\n",
    "\n",
    "res = square_num(num)\n",
    "print(\"Sqaure of given num: \", res)"
   ]
  },
  {
   "cell_type": "markdown",
   "id": "70a46f06",
   "metadata": {},
   "source": [
    "Day3: Program2:  \n",
    "Can you write a function called multiply(a, b) that:\n",
    "\n",
    "1) Takes 2 numbers as input (parameters)  \n",
    "2) Returns their multiplication  \n",
    "3) Prints the result in the main program  "
   ]
  },
  {
   "cell_type": "code",
   "execution_count": 7,
   "id": "cea94a0a",
   "metadata": {},
   "outputs": [
    {
     "name": "stdout",
     "output_type": "stream",
     "text": [
      "Multiplication Result:  12\n"
     ]
    }
   ],
   "source": [
    "num1 = int(input(\"Enter number 1: \"))\n",
    "num2 = int(input(\"Enter number2: \"))\n",
    "\n",
    "# function to return mul of two numbers\n",
    "def multiplication(num1, num2):\n",
    "    return num1*num2\n",
    "\n",
    "result = multiplication(num1, num2)\n",
    "print(\"Multiplication Result: \", result)"
   ]
  }
 ],
 "metadata": {
  "kernelspec": {
   "display_name": "base",
   "language": "python",
   "name": "python3"
  },
  "language_info": {
   "codemirror_mode": {
    "name": "ipython",
    "version": 3
   },
   "file_extension": ".py",
   "mimetype": "text/x-python",
   "name": "python",
   "nbconvert_exporter": "python",
   "pygments_lexer": "ipython3",
   "version": "3.13.5"
  }
 },
 "nbformat": 4,
 "nbformat_minor": 5
}
