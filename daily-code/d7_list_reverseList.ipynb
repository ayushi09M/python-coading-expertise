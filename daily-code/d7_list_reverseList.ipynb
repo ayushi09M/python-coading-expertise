{
 "cells": [
  {
   "cell_type": "markdown",
   "id": "cc9d2d44",
   "metadata": {},
   "source": [
    "### Challenge: Reverse a List\n",
    "\n",
    "**Task:**  \n",
    "Write a Python program that:\n",
    "1. Takes a list of numbers as input from the user.  \n",
    "2. Reverses the list (without using Python’s built-in `reverse()` or slicing `[::-1]`).  \n",
    "3. Prints both the original and the reversed list.\n",
    "\n",
    "**Hint:**  \n",
    "Think about how you can loop through the list **from the end to the beginning**.\n"
   ]
  },
  {
   "cell_type": "code",
   "execution_count": 12,
   "id": "a11337ae",
   "metadata": {},
   "outputs": [
    {
     "name": "stdout",
     "output_type": "stream",
     "text": [
      "Original List:  [4, 5, 3, 6, 2]\n",
      "Reversed List :  [2, 6, 3, 5, 4]\n"
     ]
    }
   ],
   "source": [
    "length = int(input(\"Enter the length of num for list: \"))\n",
    "original_list = []\n",
    "\n",
    "for i in range(length):\n",
    "   n = int(input(\"Enter a num: \"))\n",
    "   original_list.append(n)\n",
    "\n",
    "print(\"Original List: \", original_list)\n",
    "\n",
    "#Function to reverse the list\n",
    "def reversedList(original_list):\n",
    "    reversed_list = []\n",
    "    last_index = len(original_list)-1\n",
    "    for i in range(last_index, -1, -1):\n",
    "        reversed_list.append(original_list[i])\n",
    "\n",
    "    print(\"Reversed List : \", reversed_list)\n",
    "\n",
    "reversedList(original_list)"
   ]
  }
 ],
 "metadata": {
  "kernelspec": {
   "display_name": "Python 3",
   "language": "python",
   "name": "python3"
  },
  "language_info": {
   "codemirror_mode": {
    "name": "ipython",
    "version": 3
   },
   "file_extension": ".py",
   "mimetype": "text/x-python",
   "name": "python",
   "nbconvert_exporter": "python",
   "pygments_lexer": "ipython3",
   "version": "3.13.6"
  }
 },
 "nbformat": 4,
 "nbformat_minor": 5
}
