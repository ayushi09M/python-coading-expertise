{
 "cells": [
  {
   "cell_type": "markdown",
   "id": "7c34baeb",
   "metadata": {},
   "source": [
    "##### Inverted Right Angled Triangle\n",
    "Problem Description:\n",
    "\n",
    "You are given an integer n. Your task is to return an inverted right-angled triangle pattern of '*' where each side has n characters, represented as a list of strings. The first row should have n stars, the second row n-1 stars, and so on, until the last row has 1 star.\n",
    "\n",
    "Input Parameters:\n",
    "n (int): The height and base of the inverted right-angled triangle.\n",
    "\n",
    "Output:\n",
    "A list of strings where each string is a row of '*' characters that decreases in length from n to 1.\n",
    "\n",
    "Example:\n",
    "Input: 3\n",
    "Output: ['***', '**', '*']\n",
    " \n",
    "Input: 5\n",
    "Output: ['*****', '****', '***', '**', '*']"
   ]
  },
  {
   "cell_type": "code",
   "execution_count": null,
   "id": "b7e435c4",
   "metadata": {},
   "outputs": [],
   "source": [
    "def generate_inverted_triangle(n):\n",
    "    \"\"\"\n",
    "    Function to return an inverted right-angled triangle of '*' of side n as a list of strings.\n",
    "    \n",
    "    Parameters:\n",
    "    n (int): The height and base of the triangle.\n",
    "    \n",
    "    Returns:\n",
    "    list: A list of strings where each string represents a row of the triangle.\n",
    "    \"\"\"\n",
    "    # Your code here\n",
    "    my_list=[]\n",
    "    \n",
    "    if n<=0:   \n",
    "      return []\n",
    "      \n",
    "    for i in range(n):\n",
    "        my_list.append(\"*\" * (n-i))  \n",
    "    return my_list\n",
    "\n",
    "\n",
    "my_list = generate_inverted_triangle(5)\n",
    "print(my_list)  # Output: ['*****', '****', '***', '**', '*']"
   ]
  }
 ],
 "metadata": {
  "language_info": {
   "name": "python"
  }
 },
 "nbformat": 4,
 "nbformat_minor": 5
}
