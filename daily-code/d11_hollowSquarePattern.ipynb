{
 "cells": [
  {
   "cell_type": "markdown",
   "id": "19e46148",
   "metadata": {},
   "source": [
    "###### Hollow Square of side 'N'\n",
    "Problem Description:\n",
    "\n",
    "You are given an integer n. Your task is to return a hollow square pattern of size n x n made up of the character '*', represented as a list of strings. The hollow square has '*' on the border, and spaces ' ' in the middle (except for side lengths of 1 and 2).\n",
    "\n",
    "Input Parameters:\n",
    "n (int): The size of the square (number of rows and columns).\n",
    "\n",
    "Output:\n",
    "A list of strings where each string is a row of n characters, representing a hollow square.\n",
    "\n",
    "Example:\n",
    "\n",
    "Input: 3\n",
    "Output: ['+++', '+ +', '+++']\n",
    " \n",
    "Input: 5\n",
    "Output: ['+++++', '+   +', '+   +', '+   +', '+++++']"
   ]
  },
  {
   "cell_type": "code",
   "execution_count": 1,
   "id": "de8808c5",
   "metadata": {},
   "outputs": [
    {
     "data": {
      "text/plain": [
       "['******', '*    *', '*    *', '*    *', '*    *', '******']"
      ]
     },
     "execution_count": 1,
     "metadata": {},
     "output_type": "execute_result"
    }
   ],
   "source": [
    "### Approach 1\n",
    "\n",
    "def generate_hollow_square(n):\n",
    "    \"\"\"\n",
    "    Function to return a hollow square pattern of '*' of side n as a list of strings.\n",
    "    \n",
    "    Parameters:\n",
    "    n (int): The size of the square.\n",
    "    \n",
    "    Returns:\n",
    "    list: A list of strings where each string represents a row of the hollow square.\n",
    "    \"\"\"\n",
    "    # Your code here\n",
    "    hollow_list=[]\n",
    "    str=''\n",
    "    \n",
    "    for r in range(n):\n",
    "        for c in range(n):\n",
    "            if r==0 or r ==n-1:\n",
    "                str = \"*\"*n\n",
    "                break\n",
    "            elif c==0 or c==n-1:\n",
    "                str = str + \"*\"\n",
    "            else:\n",
    "                str = str+ ' '\n",
    "        hollow_list.append(str)\n",
    "        str = ''\n",
    "    return hollow_list\n",
    "\n",
    "n = int(input(\"Enter a num: \"))\n",
    "generate_hollow_square(n)"
   ]
  },
  {
   "cell_type": "markdown",
   "id": "c1cac15e",
   "metadata": {},
   "source": []
  }
 ],
 "metadata": {
  "kernelspec": {
   "display_name": "Python 3",
   "language": "python",
   "name": "python3"
  },
  "language_info": {
   "codemirror_mode": {
    "name": "ipython",
    "version": 3
   },
   "file_extension": ".py",
   "mimetype": "text/x-python",
   "name": "python",
   "nbconvert_exporter": "python",
   "pygments_lexer": "ipython3",
   "version": "3.13.6"
  }
 },
 "nbformat": 4,
 "nbformat_minor": 5
}
