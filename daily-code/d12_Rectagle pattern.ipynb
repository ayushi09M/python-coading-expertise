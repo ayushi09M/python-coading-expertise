{
 "cells": [
  {
   "cell_type": "markdown",
   "id": "5a394938",
   "metadata": {},
   "source": [
    "##### Rectangle Pattern\n",
    "Problem Description:  \n",
    "You are given two integers, n and m. Your task is to return a rectangle pattern of '*', where n represents the number of rows (length) and m represents the number of columns (breadth).\n",
    "\n",
    "Input:\n",
    "Two integers n and m, where 1 <= n, m <= 100.\n",
    "\n",
    "Output:\n",
    "A list of strings where each string represents a row of the rectangle pattern.\n",
    "\n",
    "Example:\n",
    "Input: n = 4, m = 5\n",
    "Output: ['*****', '*****', '*****', '*****']\n",
    " \n",
    "Input: n = 3, m = 2\n",
    "Output: ['**', '**', '**']"
   ]
  },
  {
   "cell_type": "code",
   "execution_count": 4,
   "id": "3ed7a2cd",
   "metadata": {},
   "outputs": [
    {
     "name": "stdout",
     "output_type": "stream",
     "text": [
      "0\n",
      "1\n",
      "2\n",
      "['*****', '*****', '*****']\n"
     ]
    }
   ],
   "source": [
    "def generate_rectangle(n, m):\n",
    "    \"\"\"\n",
    "    Function to return a rectangle pattern of '*' with length n and breadth m as a list of strings.\n",
    "    \n",
    "    Parameters:\n",
    "    n (int): The number of rows in the rectangle.\n",
    "    m (int): The number of columns in the rectangle.\n",
    "    \n",
    "    Returns:\n",
    "    list: A list of strings where each string represents a row of the rectangle pattern.\n",
    "    \"\"\"\n",
    "    \n",
    "    my_list = []\n",
    "    \n",
    "    if n<=0 and m <=0:\n",
    "        return []\n",
    "    elif n==1 and m == 1:\n",
    "        return [\"*\"]\n",
    "    \n",
    "    for i in range (n):\n",
    "        print(i)\n",
    "        my_list.append(m*\"*\")\n",
    "        \n",
    "    return my_list\n",
    "\n",
    "\n",
    "my_list=generate_rectangle(3, 5)\n",
    "print(my_list)\n",
    "\n",
    "\n",
    "\n"
   ]
  }
 ],
 "metadata": {
  "kernelspec": {
   "display_name": "base",
   "language": "python",
   "name": "python3"
  },
  "language_info": {
   "codemirror_mode": {
    "name": "ipython",
    "version": 3
   },
   "file_extension": ".py",
   "mimetype": "text/x-python",
   "name": "python",
   "nbconvert_exporter": "python",
   "pygments_lexer": "ipython3",
   "version": "3.13.5"
  }
 },
 "nbformat": 4,
 "nbformat_minor": 5
}
