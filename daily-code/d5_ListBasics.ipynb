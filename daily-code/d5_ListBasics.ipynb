{
 "cells": [
  {
   "cell_type": "markdown",
   "id": "6c7ee16a",
   "metadata": {
    "notebookRunGroups": {
     "groupValue": "2"
    }
   },
   "source": [
    "### Your Day 5 Challenge (Basic)\n",
    "\n",
    "### Problem Statement:\n",
    "Write a program that takes 5 numbers from the user, stores them in a list, and then:\n",
    "1. Prints the list.\n",
    "2. Prints the largest number.\n",
    "3. Prints the smallest number.\n",
    "\n",
    "Example Run\n",
    "\n",
    "##### Input:\n",
    "Enter number 1: 5  \n",
    "Enter number 2: 9  \n",
    "Enter number 3: 2  \n",
    "Enter number 4: 7  \n",
    "Enter number 5: 3  \n",
    "\n",
    "##### Output:\n",
    "Numbers: [5, 9, 2, 7, 3]  \n",
    "Largest: 9  \n",
    "Smallest: 2  \n"
   ]
  },
  {
   "cell_type": "code",
   "execution_count": null,
   "id": "1974e54d",
   "metadata": {},
   "outputs": [
    {
     "name": "stdout",
     "output_type": "stream",
     "text": [
      "Enter numbers as per given length\n",
      "[1, 2, 3, 4, 5]\n",
      "Largest: 5 Samllest 1\n"
     ]
    }
   ],
   "source": [
    "length = input(\"Enter the lenghth of number : \")\n",
    "num_list = []\n",
    "\n",
    "print(\"Enter numbers as per given length\")\n",
    "for i in range(int(length)):\n",
    "    number = int(input(\"Enter num : \"))\n",
    "    num_list.append(number)\n",
    "\n",
    "print(num_list)\n",
    "\n",
    "def find_max_min(nums_list) -> None:\n",
    "    largest = max(nums_list)\n",
    "    smallest = min(nums_list)\n",
    "    print(f\"Largest: {largest} Smallest {smallest}\")\n",
    "\n",
    "find_max_min(num_list)"
   ]
  },
  {
   "cell_type": "markdown",
   "id": "dafb668e",
   "metadata": {},
   "source": [
    "# Question 2: Sum of Numbers\n",
    "\n",
    "Write a program that takes **5 numbers** as input from the user, stores them in a list,  \n",
    "and then prints the **sum of all numbers** in the list.\n",
    "\n",
    "## Example Input:\n",
    "Enter number 1: 2  \n",
    "Enter number 2: 4  \n",
    "Enter number 3: 6  \n",
    "Enter number 4: 8  \n",
    "Enter number 5: 10  \n",
    "\n",
    "## Expected Output:\n",
    "Sum of numbers: 30\n"
   ]
  },
  {
   "cell_type": "code",
   "execution_count": 6,
   "id": "1928d096",
   "metadata": {},
   "outputs": [
    {
     "name": "stdout",
     "output_type": "stream",
     "text": [
      "Enter numbers\n",
      "Sum of given numbers : 15\n"
     ]
    }
   ],
   "source": [
    "length = int(input(\"Enter the range of numbers: \"))\n",
    "num_list = []\n",
    "\n",
    "#function to calculate sum of numbers\n",
    "def find_sum(num_list, length):\n",
    "    print(\"Enter numbers\")\n",
    "    sum=0\n",
    "    for i in range(length):\n",
    "        num = int(input(\"Enter a num\"))\n",
    "        num_list.append(num)\n",
    "        sum = sum + num_list[i]\n",
    "    return sum\n",
    "\n",
    "sum = find_sum(num_list, length)\n",
    "print(f\"Sum of given numbers : {sum}\")\n",
    "    "
   ]
  }
 ],
 "metadata": {
  "kernelspec": {
   "display_name": "base",
   "language": "python",
   "name": "python3"
  },
  "language_info": {
   "codemirror_mode": {
    "name": "ipython",
    "version": 3
   },
   "file_extension": ".py",
   "mimetype": "text/x-python",
   "name": "python",
   "nbconvert_exporter": "python",
   "pygments_lexer": "ipython3",
   "version": "3.13.5"
  }
 },
 "nbformat": 4,
 "nbformat_minor": 5
}
