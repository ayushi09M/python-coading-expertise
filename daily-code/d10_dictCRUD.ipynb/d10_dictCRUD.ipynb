{
 "cells": [
  {
   "cell_type": "markdown",
   "id": "f7c21bd0",
   "metadata": {},
   "source": [
    "Problem Statement\n",
    "Write a Python program to perform CRUD (Create, Read, Update, Delete) operations on a dictionary of student marks.\n",
    "\n",
    "Steps\n",
    "1. Create\n",
    "\n",
    "Ask the user how many students.\n",
    "\n",
    "Take input for student names and marks.\n",
    "\n",
    "Store them in a dictionary.\n",
    "\n",
    "2. Read\n",
    "\n",
    "Print the dictionary.\n",
    "\n",
    "3. Update\n",
    "\n",
    "Update marks of a specific student (e.g., \"John\" → 95).\n",
    "\n",
    "4. Delete\n",
    "\n",
    "Delete a student entry from the dictionary."
   ]
  },
  {
   "cell_type": "code",
   "execution_count": null,
   "id": "e12aa21b",
   "metadata": {
    "vscode": {
     "languageId": "html"
    }
   },
   "outputs": [],
   "source": []
  },
  {
   "cell_type": "code",
   "execution_count": null,
   "id": "7e2cd7fe",
   "metadata": {
    "vscode": {
     "languageId": "html"
    }
   },
   "outputs": [],
   "source": [
    "Enter number of students: 2\n",
    "Enter student name: John\n",
    "Enter marks: 85\n",
    "Enter student name: Alice\n",
    "Enter marks: 90\n",
    "\n",
    "Original Dictionary: {'John': 85, 'Alice': 90}\n",
    "After Create (add Bob: 88): {'John': 85, 'Alice': 90, 'Bob': 88}\n",
    "After Update (change John's marks to 95): {'John': 95, 'Alice': 90, 'Bob': 88}\n",
    "After Delete (remove Alice): {'John': 95, 'Bob': 88}\n"
   ]
  },
  {
   "cell_type": "code",
   "execution_count": null,
   "id": "7d6b1479",
   "metadata": {},
   "outputs": [],
   "source": []
  },
  {
   "cell_type": "code",
   "execution_count": 7,
   "id": "fe63f868",
   "metadata": {},
   "outputs": [
    {
     "name": "stdout",
     "output_type": "stream",
     "text": [
      "Oroginal dictionary:  {'Ayushi': 100, 'Raksha': 1000, 'Taun': 98, 'John': 55}\n",
      "After Create (add Bob: 88): {'Ayushi': 100, 'Raksha': 1000, 'Taun': 98, 'John': 55, 'Bob': 88}\n",
      "After update (change John marks to 98) {'Ayushi': 100, 'Raksha': 1000, 'Taun': 98, 'John': 98, 'Bob': 88}\n",
      "After Deletion (Remove Ayushi) {'Raksha': 1000, 'Taun': 98, 'John': 98, 'Bob': 88}\n"
     ]
    }
   ],
   "source": [
    "# -------------------------------\n",
    "# CRUD Operations on Dictionary\n",
    "# -------------------------------\n",
    "\n",
    "# Step 1: CREATE (Build dictionary from user input)\n",
    "length = int(input(\"enter the total number of student\"))\n",
    "students = {}\n",
    "\n",
    "for i in range(length):\n",
    "    name = input(\"Enter the student name \")\n",
    "    marks = int(input(\"Enter the marks of student\"))\n",
    "    students[name] = marks #add key:value pair to dictionaeries\n",
    "\n",
    "print(\"Oroginal dictionary: \", students)\n",
    "\n",
    "#Step 2 create (add new elemts)\n",
    "students[\"Bob\"] = 88   # directly adding new key:value\n",
    "print(\"After Create (add Bob: 88):\", students)\n",
    "\n",
    "# Step 3: UPDATE (Change marks of a student)\n",
    "if \"John\" in students:       # check if key exists before updating\n",
    "    students[\"John\"] = 98\n",
    "print(\"After update (change John marks to 98)\", students)\n",
    "\n",
    "# Step 4: Delete (Remove a student entry)\n",
    "if \"Ayushi\" in students:      # check if key exists before deleting\n",
    "    del students[\"Ayushi\"]    # delete key:value pair\n",
    "print(\"After Deletion (Remove Ayushi)\", students)\n",
    "\n",
    "\n"
   ]
  },
  {
   "cell_type": "code",
   "execution_count": null,
   "id": "c7b2c5d0",
   "metadata": {},
   "outputs": [],
   "source": []
  }
 ],
 "metadata": {
  "kernelspec": {
   "display_name": "Python 3",
   "language": "python",
   "name": "python3"
  },
  "language_info": {
   "codemirror_mode": {
    "name": "ipython",
    "version": 3
   },
   "file_extension": ".py",
   "mimetype": "text/x-python",
   "name": "python",
   "nbconvert_exporter": "python",
   "pygments_lexer": "ipython3",
   "version": "3.13.6"
  }
 },
 "nbformat": 4,
 "nbformat_minor": 5
}
