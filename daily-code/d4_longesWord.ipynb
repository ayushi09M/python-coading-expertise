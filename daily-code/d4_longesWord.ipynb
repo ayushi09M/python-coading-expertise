{
 "cells": [
  {
   "cell_type": "markdown",
   "id": "85d0276b",
   "metadata": {},
   "source": [
    "🎯 Day 4 Challenge: Longest Word in a Sentence\n",
    "\n",
    "Problem Statement:\n",
    "Write a program that takes a sentence as input and prints the longest word in that sentence.\n",
    "If there are multiple words of the same length, print the first one.\n",
    "\n",
    "========================================  \n",
    "Input:\n",
    "This is a coding challenge\n",
    "\n",
    "Output:\n",
    "challenge\n",
    "\n",
    "Input:\n",
    "I love Python programming\n",
    "\n",
    "Output:\n",
    "programming\n",
    "\n",
    "=======================================\n",
    "\n",
    "🔥 This tests:\n",
    "1. String splitting (split()),\n",
    "2. Looping through words,\n",
    "3. Comparing lengths."
   ]
  },
  {
   "cell_type": "code",
   "execution_count": 2,
   "id": "5c03331d",
   "metadata": {},
   "outputs": [
    {
     "name": "stdout",
     "output_type": "stream",
     "text": [
      "Longest String in given sentence: Python\n"
     ]
    }
   ],
   "source": [
    "str = input(\"Enter a sentence : \")\n",
    "\n",
    "'''function to return the longest string'''\n",
    "def find_LongestStr(str):\n",
    "    #split and store words \n",
    "    words = str.split()\n",
    "    longest = \"\"\n",
    "\n",
    "    for word in words:\n",
    "        if len(word)> len(longest):\n",
    "            longest = word\n",
    "        else:\n",
    "            continue\n",
    "    return longest\n",
    "    \n",
    "longest_str = find_LongestStr(str)\n",
    "\n",
    "print(f\"Longest String in given sentence: {longest_str}\")"
   ]
  }
 ],
 "metadata": {
  "kernelspec": {
   "display_name": "Python 3",
   "language": "python",
   "name": "python3"
  },
  "language_info": {
   "codemirror_mode": {
    "name": "ipython",
    "version": 3
   },
   "file_extension": ".py",
   "mimetype": "text/x-python",
   "name": "python",
   "nbconvert_exporter": "python",
   "pygments_lexer": "ipython3",
   "version": "3.13.6"
  }
 },
 "nbformat": 4,
 "nbformat_minor": 5
}
