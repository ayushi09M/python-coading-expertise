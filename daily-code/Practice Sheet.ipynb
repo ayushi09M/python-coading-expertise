{
 "cells": [
  {
   "cell_type": "markdown",
   "id": "1ab94cf5",
   "metadata": {},
   "source": [
    "***1. Solve Pattern questions to build logic***\n"
   ]
  },
  {
   "cell_type": "markdown",
   "id": "c2d1889e",
   "metadata": {},
   "source": [
    "***2. Solve Begginer level question***"
   ]
  }
 ],
 "metadata": {
  "language_info": {
   "name": "python"
  }
 },
 "nbformat": 4,
 "nbformat_minor": 5
}
