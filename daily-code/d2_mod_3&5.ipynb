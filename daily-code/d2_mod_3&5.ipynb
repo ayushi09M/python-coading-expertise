{
 "cells": [
  {
   "cell_type": "markdown",
   "id": "d4ccd021",
   "metadata": {},
   "source": [
    "Problem:  \n",
    "\n",
    "Write a program that:  \n",
    "Takes a number n from the user.  \n",
    "    Prints all numbers from 1 to n.  \n",
    "For each number:  \n",
    "1. If divisible by 3 → print \"Fizz\"  \n",
    "2. If divisible by 5 → print \"Buzz\"  \n",
    "3. If divisible by both 3 and 5 → print \"FizzBuzz\"  \n",
    "4. Otherwise, print the number itself.  "
   ]
  },
  {
   "cell_type": "code",
   "execution_count": 4,
   "id": "8c46f467",
   "metadata": {},
   "outputs": [
    {
     "name": "stdout",
     "output_type": "stream",
     "text": [
      "1\n",
      "2\n",
      "Fizz\n",
      "4\n",
      "Buzz\n",
      "Fizz\n",
      "7\n",
      "8\n",
      "Fizz\n",
      "Buzz\n",
      "11\n",
      "Fizz\n",
      "13\n",
      "14\n",
      "FizzBuzz\n",
      "16\n",
      "17\n",
      "Fizz\n",
      "19\n",
      "Buzz\n",
      "Fizz\n",
      "22\n",
      "23\n",
      "Fizz\n",
      "Buzz\n",
      "26\n",
      "Fizz\n",
      "28\n",
      "29\n"
     ]
    }
   ],
   "source": [
    "##Take input from user\n",
    "n = int(input(\"Enter a number: \"))\n",
    "\n",
    "##checking condition for printing statements accordingly\n",
    "for num in range (1,n):\n",
    "    if num%3==0 and num%5==0 :\n",
    "        print(\"FizzBuzz\")\n",
    "    elif num%3==0:\n",
    "        print(\"Fizz\")\n",
    "    elif num%5==0:\n",
    "        print(\"Buzz\")\n",
    "    else:\n",
    "        print(num)"
   ]
  },
  {
   "cell_type": "code",
   "execution_count": null,
   "id": "4ac7fc21",
   "metadata": {},
   "outputs": [],
   "source": []
  }
 ],
 "metadata": {
  "kernelspec": {
   "display_name": "Python 3",
   "language": "python",
   "name": "python3"
  },
  "language_info": {
   "codemirror_mode": {
    "name": "ipython",
    "version": 3
   },
   "file_extension": ".py",
   "mimetype": "text/x-python",
   "name": "python",
   "nbconvert_exporter": "python",
   "pygments_lexer": "ipython3",
   "version": "3.13.6"
  }
 },
 "nbformat": 4,
 "nbformat_minor": 5
}
