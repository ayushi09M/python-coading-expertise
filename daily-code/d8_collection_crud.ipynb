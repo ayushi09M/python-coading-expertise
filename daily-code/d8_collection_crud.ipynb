{
 "cells": [
  {
   "cell_type": "markdown",
   "id": "af1e5a3d",
   "metadata": {},
   "source": [
    "##### List CRUD Challenge\n",
    "\n",
    "##### Instructions:\n",
    "1. Ask the user how many numbers to enter.\n",
    "2. Create a list with those numbers.\n",
    "3. Show original list.\n",
    "4. Perform CRUD operations:\n",
    "   - **Create:** Append a new number.\n",
    "   - **Read:** Display the list.\n",
    "   - **Update:** Change a value at a specific index.\n",
    "   - **Delete:** Remove the last element.\n",
    "\n",
    "---\n",
    "\n",
    "### Example Input/Output\n",
    "\n",
    "Enter list length: 4  \n",
    "Enter a num: 10  \n",
    "Enter a num: 20  \n",
    "Enter a num: 30  \n",
    "Enter a num: 40  \n",
    "\n",
    "Original List: [10, 20, 30, 40]  \n",
    "After Create (add 50): [10, 20, 30, 40, 50]  \n",
    "After Update (2nd → 99): [10, 99, 30, 40, 50]  \n",
    "After Delete (last removed): [10, 99, 30, 40]  \n"
   ]
  },
  {
   "cell_type": "code",
   "execution_count": 8,
   "id": "fa6376e5",
   "metadata": {},
   "outputs": [
    {
     "name": "stdout",
     "output_type": "stream",
     "text": [
      "Original num_list:  [2, 3, 4, 5, 6]\n",
      "Adding element at specific index : [1, 2, 3, 4, 5, 6]\n",
      "Adding multiple elements [1, 2, 3, 4, 5, 6, 9, 8, 7, 6]\n",
      "0th indeex element deleted [2, 3, 4, 5, 6, 9, 8, 7, 6]\n",
      "rmoving element 2:  [3, 4, 5, 6, 9, 8, 7, 6]\n",
      "deleting last element  [3, 4, 5, 6, 9, 8, 7]\n",
      "deleting element at index 3 [3, 4, 5, 9, 8, 7]\n",
      "Empty list:  []\n"
     ]
    }
   ],
   "source": [
    "from os import remove\n",
    "\n",
    "\n",
    "length  =  int(input(\"Enter the length of list:\"))\n",
    "\n",
    "num_list = []\n",
    "\n",
    "for i in range(length):\n",
    "    n = int(input(\"Enter a num: \"))\n",
    "    #append the num at last index\n",
    "    num_list.append(n) \n",
    "\n",
    "print(\"Original num_list: \", num_list)\n",
    "\n",
    "# add elemnet at specific index\n",
    "num_list.insert(0,1)\n",
    "print(\"Adding element at specific index :\",num_list)\n",
    "\n",
    "#add multiple elements\n",
    "num_list.extend([9,8,7,6])\n",
    "\n",
    "print(\"Adding multiple elements\", num_list)\n",
    "\n",
    "\n",
    "# =========delete==============\n",
    "del num_list[0] #remove element at incex 0\n",
    "print(\"0th indeex element deleted\",num_list)\n",
    "\n",
    "num_list.remove(2) #remove element 2\n",
    "print(\"rmoving element 2: \",num_list)\n",
    "num_list.pop()\n",
    "print(\"deleting last element \", num_list)\n",
    "num_list.pop(3)    # remove by index\n",
    "print(\"deleting element at index 3\", num_list)\n",
    "num_list.clear()\n",
    "print(\"Empty list: \", num_list)\n",
    "\n"
   ]
  },
  {
   "cell_type": "markdown",
   "id": "d5950bf0",
   "metadata": {},
   "source": [
    "#### Tuple CRUD Challenge\n",
    "\n",
    "**(Remember: tuples are immutable, so we can’t directly change them — instead, we create a new tuple after modifications.)**\n",
    "\n",
    "### Instructions:\n",
    "1. Ask the user how many colors to enter.\n",
    "2. Create a tuple with those colors.\n",
    "3. Show original tuple.\n",
    "4. Perform CRUD operations:\n",
    "   - **Create:** Add a new color (by concatenating).\n",
    "   - **Read:** Display the tuple.\n",
    "   - **Update:** Replace one color by creating a new tuple.\n",
    "   - **Delete:** Remove one color by creating a new tuple.\n",
    "\n",
    "---\n",
    "\n",
    "### Example Input/Output\n",
    "\n",
    "Enter number of colors: 3  \n",
    "Enter a color: Red  \n",
    "Enter a color: Green  \n",
    "Enter a color: Blue  \n",
    "\n",
    "Original Tuple: ('Red', 'Green', 'Blue')  \n",
    "After Create (add Yellow): ('Red', 'Green', 'Blue', 'Yellow')  \n",
    "After Update (replace Green with Black): ('Red', 'Black', 'Blue', 'Yellow')  \n",
    "After Delete (remove Red): ('Black', 'Blue', 'Yellow')  \n"
   ]
  },
  {
   "cell_type": "code",
   "execution_count": 12,
   "id": "47697ce3",
   "metadata": {},
   "outputs": [
    {
     "name": "stdout",
     "output_type": "stream",
     "text": [
      "('Black', 'Blue', 'Green')\n",
      "After updation:  ('Black', 'Pink', 'Green')\n",
      "After deletion(remove Red) ('Black', 'Green')\n"
     ]
    }
   ],
   "source": [
    "length = int(input(\"Enter how many colours you want\"))\n",
    "\n",
    "# Tuples are inmmutable so storing elements in list\n",
    "colours_list=[]\n",
    "for i in range(length):\n",
    "    colour = input(\"Please enter colour: \")\n",
    "    colours_list.append(colour)\n",
    "\n",
    "# Typecasting list to tuple\n",
    "colour_tuple=tuple(colours_list)\n",
    "print(colour_tuple)\n",
    "\n",
    "\n",
    "# Update: immutable so can't make direct changes \n",
    "# solution: use tuple comprehension \n",
    "# replace Blue with Pink\n",
    "\n",
    "colour_tuple = tuple(\"Pink\" if c==\"Blue\" else c for c in colour_tuple)\n",
    "print(\"After updation: \", colour_tuple)\n",
    "\n",
    "## Delete : Immutable so can't directly delete\n",
    "# solution: create anew tuple without red\n",
    "colour_new_tuple = tuple(c for c in colour_tuple if c!=\"Pink\")\n",
    "print(\"After deletion(remove Red)\", colour_new_tuple)\n",
    "\n",
    "\n",
    "\n",
    "\n"
   ]
  }
 ],
 "metadata": {
  "kernelspec": {
   "display_name": "Python 3",
   "language": "python",
   "name": "python3"
  },
  "language_info": {
   "codemirror_mode": {
    "name": "ipython",
    "version": 3
   },
   "file_extension": ".py",
   "mimetype": "text/x-python",
   "name": "python",
   "nbconvert_exporter": "python",
   "pygments_lexer": "ipython3",
   "version": "3.13.6"
  }
 },
 "nbformat": 4,
 "nbformat_minor": 5
}
