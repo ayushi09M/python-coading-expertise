{
 "cells": [
  {
   "cell_type": "markdown",
   "id": "93f76f95",
   "metadata": {},
   "source": [
    "1) Problem Statement:\n",
    "Write a program that takes a word from the user and prints:\n",
    "1. Uppercase version\n",
    "2. Lowercase version\n",
    "3. Title case version (first letter capital)\n",
    "\n",
    "Input Format:\n",
    "A single word\n",
    "\n",
    "Output Format:\n",
    "Print three lines showing the uppercase, lowercase, and title case"
   ]
  },
  {
   "cell_type": "code",
   "execution_count": 3,
   "id": "4ff6f73b",
   "metadata": {},
   "outputs": [
    {
     "name": "stdout",
     "output_type": "stream",
     "text": [
      "UpperCase:  AYUSHI\n",
      "LowerCase:  ayushi\n",
      "Title:  Ayushi\n"
     ]
    }
   ],
   "source": [
    "str = input(\"Enter your name: \")\n",
    "\n",
    "def string_fun(str):\n",
    "    print(\"UpperCase: \", str.upper())\n",
    "    print(\"LowerCase: \", str.lower())\n",
    "    print(\"Title: \", str.title())\n",
    "\n",
    "string_fun(str)"
   ]
  },
  {
   "cell_type": "markdown",
   "id": "6f61d8a1",
   "metadata": {},
   "source": [
    "Challenge 2: Reverse String\n",
    "\n",
    "Problem Statement:\n",
    "Write a program that takes a string from the user and prints it reversed in two ways:\n",
    "1. Using string slicing\n",
    "2. Using a loop\n",
    "\n",
    "Input Format:\n",
    "A single word\n",
    "\n",
    "Output Format:\n",
    "Two lines: reversed with slicing, reversed with loop\n",
    "\n",
    "Sample Input:\n",
    "hello\n",
    "\n",
    "Sample Output:  \n",
    "Reversed (slicing): olleh  \n",
    "Reversed (loop): olleh  "
   ]
  },
  {
   "cell_type": "code",
   "execution_count": null,
   "id": "838c9336",
   "metadata": {},
   "outputs": [
    {
     "name": "stdout",
     "output_type": "stream",
     "text": [
      "Reversed String using loop:  ihsuyA\n",
      "Reverse String using Slicing:  ihsuyA\n"
     ]
    }
   ],
   "source": [
    "string = input(\"Enter a String: \")\n",
    "\n",
    "# function to reverse the string\n",
    "def reverse_str_loop(string):\n",
    "    rev = \"\"\n",
    "    for ch in string:\n",
    "        rev = ch + rev\n",
    "    return rev\n",
    "\n",
    "# Function to reverse string using slicing \n",
    "# If step is -ive then it start from end (end->start)\n",
    "# If step is +ive then it start from start (start->end)\n",
    "def reverse_str_slicing(string):\n",
    "    return string[::-1]\n",
    "    \n",
    "print(\"Reversed String using loop: \",reverse_str_loop(string))\n",
    "print(\"Reverse String using Slicing: \", reverse_str_slicing(string))\n",
    "\n"
   ]
  },
  {
   "cell_type": "markdown",
   "id": "e90417b5",
   "metadata": {},
   "source": [
    "📝 Challenge 3: Count Vowels & Consonants\n",
    "\n",
    "Problem Statement:\n",
    "Write a program that takes a string and counts how many vowels and consonants it contains.\n",
    "Vowels are a, e, i, o, u (consider both uppercase and lowercase).\n",
    "\n",
    "Input Format:\n",
    "A single word\n",
    "\n",
    "Output Format:\n",
    "Two lines: number of vowels and number of consonants\n",
    "\n",
    "Sample Input:  \n",
    "Ayushi\n",
    "\n",
    "Sample Output:  \n",
    "Vowels:  3  \n",
    "Consonants: 3  \n"
   ]
  },
  {
   "cell_type": "code",
   "execution_count": 14,
   "id": "a219c419",
   "metadata": {},
   "outputs": [
    {
     "name": "stdout",
     "output_type": "stream",
     "text": [
      "Length of  : Ayushi123Ayushi  is  15\n",
      "Couunt of Vowel :  6 Count of constant :  6\n"
     ]
    }
   ],
   "source": [
    "str = input(\"Please enter a string: \")\n",
    "\n",
    "def print_Vowel_Constant_Count(str):\n",
    "    \n",
    "    print(\"Length of  :\", str, \" is \", len(str))\n",
    "    v = 0\n",
    "    c = 0\n",
    "    for ch in str:\n",
    "        if ch in \"aeiouAEIOU\":\n",
    "            v = v + 1\n",
    "        elif ch.isalpha():\n",
    "            c = c+1\n",
    "    print(\"Couunt of Vowel : \", v, \"Count of constant : \",c)\n",
    "\n",
    "print_Vowel_Constant_Count(str)\n"
   ]
  },
  {
   "cell_type": "markdown",
   "id": "716df2be",
   "metadata": {},
   "source": [
    "Challenge 4: Palindrome Checker\n",
    "\n",
    "Problem Statement:\n",
    "A palindrome is a word that reads the same forward and backward (like madam or racecar).\n",
    "Write a program to check whether the given word is a palindrome.\n",
    "\n",
    "Input Format:\n",
    "\n",
    "A single word\n",
    "\n",
    "Output Format:\n",
    "\n",
    "Print \"Yes, it's a palindrome.\" or \"No, it's not a palindrome.\"\n",
    "\n",
    "Sample Input 1:\n",
    "\n",
    "madam\n",
    "\n",
    "\n",
    "Sample Output 1:\n",
    "\n",
    "Yes, it's a palindrome.\n",
    "\n",
    "\n",
    "Sample Input 2:\n",
    "\n",
    "python\n",
    "\n",
    "\n",
    "Sample Output 2:\n",
    "\n",
    "No, it's not a palindrome."
   ]
  },
  {
   "cell_type": "code",
   "execution_count": null,
   "id": "4b51c21e",
   "metadata": {},
   "outputs": [
    {
     "name": "stdout",
     "output_type": "stream",
     "text": [
      "Given String is:  Madam\n",
      "Palindrome\n"
     ]
    }
   ],
   "source": [
    "str = input(\"Enter a string: \")\n",
    "print(\"Given String is: \",str)\n",
    "str = str.lower()\n",
    "\n",
    "count=0\n",
    "\n",
    "def reverseStr_brute(str):\n",
    "    len = str.__len__()-1\n",
    "    i=0\n",
    "    count=0\n",
    "    for ch in str:\n",
    "        if ch == (str[len-i]):\n",
    "            i = i+1\n",
    "            continue\n",
    "        else :\n",
    "            count = 1\n",
    "            break\n",
    "    return count\n",
    "\n",
    "def reverseStr_Slicing(str):\n",
    "      if str == str[::-1]:\n",
    "          return 0\n",
    "      else:\n",
    "          return 1 \n",
    "        \n",
    "count = reverseStr_brute(str)\n",
    "\n",
    "if(count == 1):\n",
    "    print(\"Not a Palindrome\")\n",
    "else:\n",
    "    print(\"Palindrome\")\n",
    "\n",
    "count = reverse_str_slicing(str)\n",
    "\n",
    "if(count == 1):\n",
    "    print(\"Not a Palindrome\")\n",
    "else:\n",
    "    print(\"Palindrome\")\n",
    "\n",
    "\n"
   ]
  },
  {
   "cell_type": "markdown",
   "id": "e0fa6cf5",
   "metadata": {},
   "source": [
    "Challenge 5: Word Occurrence Finder\n",
    "\n",
    "Problem Statement:\n",
    "Write a program that takes a sentence and a word from the user and prints how many times that word occurs in the sentence.\n",
    "\n",
    "Input Format:\n",
    "First line: a sentence  \n",
    "Second line: a word to search for  \n",
    "\n",
    "Output Format:\n",
    "A single line showing the count of that word  \n",
    "\n",
    "Sample Input:\n",
    "Python is fun and Python is powerful  \n",
    "Python  \n",
    "\n",
    "Sample Output:\n",
    "The word 'Python' appears 2 times.  "
   ]
  },
  {
   "cell_type": "code",
   "execution_count": 1,
   "id": "73697b2d",
   "metadata": {},
   "outputs": [
    {
     "name": "stdout",
     "output_type": "stream",
     "text": [
      "['Python', 'is', 'popular.', 'Python', 'is', 'easy', 'to', 'learn.', 'Python', 'can', 'use', 'in', 'AI', 'as', 'well.']\n",
      "Occurance of 'Python' count is 3\n"
     ]
    }
   ],
   "source": [
    "sentence = input(\"Enter the sentence with few repetation of word: \")\n",
    "word = input(\"Please enter any word to check the repetation in sentence: \")\n",
    "\n",
    "# storing words\n",
    "words = sentence.split()\n",
    "print(words)\n",
    "\n",
    "#Counting the given word occurance\n",
    "count = words.count(word)\n",
    "print(f\"Occurance of '{word}' count is {count}\")"
   ]
  }
 ],
 "metadata": {
  "kernelspec": {
   "display_name": "base",
   "language": "python",
   "name": "python3"
  },
  "language_info": {
   "codemirror_mode": {
    "name": "ipython",
    "version": 3
   },
   "file_extension": ".py",
   "mimetype": "text/x-python",
   "name": "python",
   "nbconvert_exporter": "python",
   "pygments_lexer": "ipython3",
   "version": "3.13.5"
  }
 },
 "nbformat": 4,
 "nbformat_minor": 5
}
