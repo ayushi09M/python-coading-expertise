{
 "cells": [
  {
   "cell_type": "markdown",
   "id": "5b046d3a",
   "metadata": {},
   "source": [
    "#### Right Angled Triangle  \n",
    "Problem Description:\n",
    "\n",
    "You are given an integer n. Your task is to return a right-angled triangle pattern of '*' where each side has n characters, represented as a list of strings. The triangle has '*' characters, starting with 1 star in the first row, 2 stars in the second row, and so on until the last row has n stars.\n",
    "\n",
    "\n",
    "\n",
    "Input Parameters:  \n",
    "n (int): The height and base of the right-angled triangle.\n",
    "  \n",
    "Output:  \n",
    "A list of strings where each string is a row of '*' characters that increases in length from 1 to n.\n",
    "\n",
    "Example:  \n",
    "\n",
    "Input: 3  \n",
    "Output: ['*', '**', '***']\n",
    " \n",
    "Input: 5  \n",
    "Output: ['*', '**', '***', '****', '*****']\n"
   ]
  },
  {
   "cell_type": "code",
   "execution_count": null,
   "id": "2da518dd",
   "metadata": {},
   "outputs": [],
   "source": [
    "def right_triangle(n):\n",
    "    my_list = []\n",
    "    if n <= 0:\n",
    "        return []\n",
    "    for i in range(1, n + 1):\n",
    "        my_list.append(\"*\" * i)\n",
    "    \n",
    "    return my_list\n",
    "\n",
    "star_list=right_triangle(int(input(\"Enter a number: \")))\n",
    "print(star_list)\n"
   ]
  }
 ],
 "metadata": {
  "language_info": {
   "name": "python"
  }
 },
 "nbformat": 4,
 "nbformat_minor": 5
}
