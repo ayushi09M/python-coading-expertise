{
 "cells": [
  {
   "cell_type": "markdown",
   "id": "381df149",
   "metadata": {},
   "source": [
    "1. Input given a number n.\n",
    "2. Return list of Right Triangle.\n",
    "3. output: [1,22,333,4444,55555]"
   ]
  },
  {
   "cell_type": "code",
   "execution_count": null,
   "id": "9038f0f9",
   "metadata": {},
   "outputs": [],
   "source": [
    "def rightTriangle(n):\n",
    "    pattern_list = []\n",
    "    for i in range(1,n+1):\n",
    "        data = str(i)*i\n",
    "        pattern_list.append(data)\n",
    "    return pattern_list\n",
    "\n",
    "n = int(input(\"Enter the rown required in pattern...\"))\n",
    "pattern_list = rightTriangle(n)\n",
    "print(pattern_list)"
   ]
  },
  {
   "cell_type": "markdown",
   "id": "2f776d11",
   "metadata": {},
   "source": [
    "##### Floyd's Triangle:\n",
    "\n",
    "1  \n",
    "23  \n",
    "456  \n",
    "78910  \n"
   ]
  },
  {
   "cell_type": "code",
   "execution_count": 9,
   "id": "f52a31ac",
   "metadata": {},
   "outputs": [
    {
     "name": "stdout",
     "output_type": "stream",
     "text": [
      "['1', '23', '456', '78910']\n"
     ]
    }
   ],
   "source": [
    "def floydTri(n):\n",
    "    count=0\n",
    "    floyd_list =[]\n",
    "    for r in range(1,n+1):\n",
    "        data = ''\n",
    "        for c in range(1,n+1):\n",
    "            if c<=r:\n",
    "                count+=1\n",
    "                data = data + str(count)\n",
    "            else:\n",
    "                break\n",
    "        floyd_list.append(data)\n",
    "    return floyd_list\n",
    "\n",
    "floydpattern = floydTri(4)\n",
    "print(floydpattern)\n",
    "           "
   ]
  },
  {
   "cell_type": "code",
   "execution_count": null,
   "id": "d2268bed",
   "metadata": {},
   "outputs": [],
   "source": []
  },
  {
   "cell_type": "code",
   "execution_count": null,
   "id": "623798dc",
   "metadata": {},
   "outputs": [],
   "source": []
  }
 ],
 "metadata": {
  "kernelspec": {
   "display_name": "Python 3",
   "language": "python",
   "name": "python3"
  },
  "language_info": {
   "codemirror_mode": {
    "name": "ipython",
    "version": 3
   },
   "file_extension": ".py",
   "mimetype": "text/x-python",
   "name": "python",
   "nbconvert_exporter": "python",
   "pygments_lexer": "ipython3",
   "version": "3.11.5"
  }
 },
 "nbformat": 4,
 "nbformat_minor": 5
}
