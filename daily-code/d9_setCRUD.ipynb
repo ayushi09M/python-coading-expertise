{
 "cells": [
  {
   "cell_type": "markdown",
   "id": "d03bc034",
   "metadata": {},
   "source": [
    "Challenge: CRUD Operations with Set in Python\n",
    "Problem Statement\n",
    "\n",
    "Write a Python program to perform CRUD (Create, Read, Update, Delete) operations on a set of fruits.\n",
    "\n",
    "Steps\n",
    "\n",
    "Create:\n",
    "\n",
    "Ask the user how many fruits they want to enter.\n",
    "\n",
    "Take fruit names as input and create a set.\n",
    "\n",
    "Read:\n",
    "\n",
    "Print the original set.\n",
    "\n",
    "Update:\n",
    "\n",
    "Add a new fruit (e.g., \"Mango\").\n",
    "\n",
    "Remove one fruit (e.g., \"Banana\") and add another one (e.g., \"Grapes\").\n",
    "\n",
    "Delete:\n",
    "\n",
    "Clear the entire set."
   ]
  },
  {
   "cell_type": "code",
   "execution_count": 1,
   "id": "99b371ab",
   "metadata": {},
   "outputs": [
    {
     "name": "stdout",
     "output_type": "stream",
     "text": [
      "Original fruits:  {'Drago Fruit', 'Banana', 'Chiku', 'Apple', 'Pomegranate'}\n",
      "Create Operation:  {'Drago Fruit', 'Banana', 'Mango', 'Chiku', 'Apple', 'Pomegranate'}\n",
      "Update Operartion:  {'Drago Fruit', 'Banana', 'Chiku', 'Grapes', 'Apple', 'Pomegranate'}\n",
      "Delete Operation:  set()\n"
     ]
    }
   ],
   "source": [
    "# Set CRUD Operations\n",
    "\n",
    "# Step 1: CREATE - Take input from user and create a set\n",
    "length = int(input(\"Enter the number of items\"))\n",
    "my_set = set()  #empty set\n",
    "\n",
    "\n",
    "for i in range(length):\n",
    "    fruit = input(\"Enter a fruit\")\n",
    "    my_set.add(fruit)\n",
    "\n",
    "print(\"Original fruits: \",my_set)\n",
    "\n",
    "\n",
    "# Step 2: CREATE (Add Mango)\n",
    "my_set.add(\"Mango\")\n",
    "print(\"Create Operation: \",my_set)\n",
    "\n",
    "\n",
    "# Step 3:UPDATE (Remove 'Mango' if exists, and add 'Grapes')g\n",
    "if \"Mango\" in my_set:\n",
    "    my_set.remove(\"Mango\")\n",
    "    my_set.add(\"Grapes\")\n",
    "    print(\"Update Operartion: \",my_set)\n",
    "\n",
    "# Step 4: DELETE (Clear the set)\n",
    "my_set.clear()\n",
    "print(\"Delete Operation: \",my_set)\n",
    "\n"
   ]
  }
 ],
 "metadata": {
  "kernelspec": {
   "display_name": "Python 3",
   "language": "python",
   "name": "python3"
  },
  "language_info": {
   "codemirror_mode": {
    "name": "ipython",
    "version": 3
   },
   "file_extension": ".py",
   "mimetype": "text/x-python",
   "name": "python",
   "nbconvert_exporter": "python",
   "pygments_lexer": "ipython3",
   "version": "3.13.6"
  }
 },
 "nbformat": 4,
 "nbformat_minor": 5
}
