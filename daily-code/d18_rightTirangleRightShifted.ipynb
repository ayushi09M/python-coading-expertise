{
 "cells": [
  {
   "cell_type": "markdown",
   "id": "8c33f970",
   "metadata": {},
   "source": [
    "#### Right Shifted Right Triangle    \n",
    "given n\n",
    "output: list of start\n",
    "    \n",
    "Example:\n",
    "\n",
    "Input: 4\n",
    "Output: ['   +', '  ++', ' +++', '++++']\n",
    " \n"
   ]
  },
  {
   "cell_type": "markdown",
   "id": "e5a7801d",
   "metadata": {},
   "source": []
  },
  {
   "cell_type": "code",
   "execution_count": 1,
   "id": "1e35af9c",
   "metadata": {},
   "outputs": [
    {
     "name": "stdout",
     "output_type": "stream",
     "text": [
      "['    *', '   **', '  ***', ' ****', '*****']\n"
     ]
    }
   ],
   "source": [
    "def generate_right_angled_triangle(n):\n",
    "\n",
    "    if n<=0:\n",
    "        return []\n",
    "        \n",
    "    tri_list=[]\n",
    "    for c in range(1,n+1):\n",
    "        space=(n-c)*' '\n",
    "        star=c*'*'\n",
    "        tri_list.append(space+star)\n",
    "        \n",
    "    return tri_list\n",
    "\n",
    "tri_list=generate_right_angled_triangle(5)\n",
    "print(tri_list)\n"
   ]
  }
 ],
 "metadata": {
  "kernelspec": {
   "display_name": "base",
   "language": "python",
   "name": "python3"
  },
  "language_info": {
   "codemirror_mode": {
    "name": "ipython",
    "version": 3
   },
   "file_extension": ".py",
   "mimetype": "text/x-python",
   "name": "python",
   "nbconvert_exporter": "python",
   "pygments_lexer": "ipython3",
   "version": "3.13.5"
  }
 },
 "nbformat": 4,
 "nbformat_minor": 5
}
