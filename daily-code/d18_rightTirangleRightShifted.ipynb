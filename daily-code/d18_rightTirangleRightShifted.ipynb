{
 "cells": [
  {
   "cell_type": "markdown",
   "id": "8c33f970",
   "metadata": {},
   "source": [
    "#### Right Shifted Right Triangle    \n",
    "given n\n",
    "output: list of start\n",
    "    \n",
    "Example:\n",
    "\n",
    "Input: 4\n",
    "Output: ['   +', '  ++', ' +++', '++++']\n",
    " \n"
   ]
  },
  {
   "cell_type": "markdown",
   "id": "e5a7801d",
   "metadata": {},
   "source": []
  },
  {
   "cell_type": "code",
   "execution_count": null,
   "id": "1e35af9c",
   "metadata": {},
   "outputs": [],
   "source": [
    "def generate_right_angled_triangle(n):\n",
    "\n",
    "    if n<=0:\n",
    "        return []\n",
    "        \n",
    "    tri_list=[]\n",
    "    for c in range(1,n+1):\n",
    "        space=(n-c)*' '\n",
    "        star=c*'*'\n",
    "        tri_list.append(space+star)\n",
    "        \n",
    "    return tri_list\n",
    "\n",
    "tri_list=generate_right_angled_triangle(5)\n",
    "print(tri_list)\n"
   ]
  }
 ],
 "metadata": {
  "language_info": {
   "name": "python"
  }
 },
 "nbformat": 4,
 "nbformat_minor": 5
}
