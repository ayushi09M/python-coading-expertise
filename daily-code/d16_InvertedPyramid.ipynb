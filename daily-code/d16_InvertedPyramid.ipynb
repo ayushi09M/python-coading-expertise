{
 "cells": [
  {
   "cell_type": "markdown",
   "id": "001af492",
   "metadata": {},
   "source": [
    "#### Inverted Pyramid Pattern\n",
    "Problem Description\n",
    "\n",
    "You are given an integer n. Your task is to return an inverted pyramid pattern of '*', where each side has n rows, represented as a list of strings. The first row has 2n - 1 stars, the second row has 2n - 3 stars, and so on, until the last row has 1 star, with each row centered using spaces.\n",
    "\n",
    "\n",
    "\n",
    "Input Parameters:\n",
    "n (int): The number of rows in the inverted pyramid.\n",
    "\n",
    "Output:\n",
    "A list of strings where each string represents a row of the inverted pyramid.\n",
    "\n",
    "Example:\n",
    "Input: 3\n",
    "Output: ['*****', ' *** ', '  *  ']\n",
    " \n",
    "Input: 5\n",
    "Output: ['*********', ' ******* ', '  *****  ', '   ***   ', '    *    ']"
   ]
  },
  {
   "cell_type": "code",
   "execution_count": 1,
   "id": "370f6b59",
   "metadata": {},
   "outputs": [
    {
     "name": "stdout",
     "output_type": "stream",
     "text": [
      "['*********', ' ******* ', '  *****  ', '   ***   ', '    *    ']\n"
     ]
    }
   ],
   "source": [
    "def generate_inverted_pyramid(n):\n",
    "    \"\"\"\n",
    "    Function to return an inverted pyramid pattern of '*' of side n as a list of strings.\n",
    "    \n",
    "    Parameters:\n",
    "    n (int): The number of rows in the inverted pyramid.\n",
    "    \n",
    "    Returns:\n",
    "    list: A list of strings where each string represents a row of the inverted pyramid.\n",
    "    \"\"\"\n",
    "    # Your code here\n",
    "    my_list=[]\n",
    "\n",
    "    for i in range(1,n+1):\n",
    "        space= (i-1)*' '\n",
    "        star=(n+(n-(i+(i-1))))*\"*\"\n",
    "        my_list.append(space + star + space)\n",
    "\t\n",
    "    return my_list\t\n",
    "\n",
    "my_list=generate_inverted_pyramid(5)\n",
    "print(my_list)    \n"
   ]
  }
 ],
 "metadata": {
  "kernelspec": {
   "display_name": "Python 3",
   "language": "python",
   "name": "python3"
  },
  "language_info": {
   "codemirror_mode": {
    "name": "ipython",
    "version": 3
   },
   "file_extension": ".py",
   "mimetype": "text/x-python",
   "name": "python",
   "nbconvert_exporter": "python",
   "pygments_lexer": "ipython3",
   "version": "3.13.6"
  }
 },
 "nbformat": 4,
 "nbformat_minor": 5
}
