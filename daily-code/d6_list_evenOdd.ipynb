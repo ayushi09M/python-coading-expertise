{
 "cells": [
  {
   "cell_type": "markdown",
   "id": "f1f14064",
   "metadata": {},
   "source": [
    "Challenge 1 (continuing from where we left off):\n",
    "\n",
    "## Challenge 1 - Find Even & Odd Numbers in a List\n",
    "\n",
    "### Problem Statement\n",
    "Write a Python program that takes a list of numbers and separates them into two lists: one for even numbers and one for odd numbers.\n",
    "\n",
    "### Sample Input\n",
    "Enter length of list: 6\n",
    "Enter numbers: 10 21 32 45 50 77\n",
    "\n",
    "\n",
    "### Sample Output\n",
    "Even numbers: [10, 32, 50]\n",
    "Odd numbers: [21, 45, 77]"
   ]
  },
  {
   "cell_type": "code",
   "execution_count": 3,
   "id": "232080b7",
   "metadata": {},
   "outputs": [
    {
     "name": "stdout",
     "output_type": "stream",
     "text": [
      "Even List [2, 4, 6]\n",
      "Odd List:  [1, 3, 5]\n"
     ]
    }
   ],
   "source": [
    "length = int(input(\"Enter the length of list: \"))\n",
    "\n",
    "def prepare_list (length):\n",
    "    my_list=[]\n",
    "    for i in range(length):\n",
    "        my_list.append(int(input(\"Enter a num\")))\n",
    "    return my_list\n",
    "\n",
    "num_list=prepare_list(length)\n",
    "\n",
    "def find_EvenOdd(num_list):\n",
    "    even_list=[]\n",
    "    odd_list=[]\n",
    "    for num in num_list:\n",
    "        if num%2==0:\n",
    "            even_list.append(num)\n",
    "        else:\n",
    "            odd_list.append(num)\n",
    "\n",
    "    print(\"Even List\", even_list)\n",
    "    print(\"Odd List: \", odd_list)\n",
    "\n",
    "find_EvenOdd(num_list)"
   ]
  },
  {
   "cell_type": "markdown",
   "id": "834cd0ac",
   "metadata": {},
   "source": [
    "#### Challenge 2 - Find Second Largest Number in a List\n",
    "\n",
    "##### Problem Statement\n",
    "Write a Python program to find the **second largest number** in a list entered by the user.  \n",
    "You should **not sort the list** to find the answer (try using loops or logic).\n",
    "\n",
    "##### Sample Input\n",
    "Enter length of list: 5\n",
    "Enter numbers: 10 40 30 20 50\n",
    "\n",
    "### Sample Output\n",
    "Second largest number: 40\n"
   ]
  },
  {
   "cell_type": "code",
   "execution_count": null,
   "id": "cf092199",
   "metadata": {},
   "outputs": [
    {
     "name": "stdout",
     "output_type": "stream",
     "text": [
      "Number List: [5, 8, 4, 9, 2, 0, 1] \n",
      "Second Largest Number: 9\n"
     ]
    }
   ],
   "source": [
    "list_len = int(input(\"Enter the length of numbers: \"))\n",
    "\n",
    "number_list = []\n",
    "\n",
    "for i in range(list_len):\n",
    "    number_list.append(int(input(\"Enter a num:\")))\n",
    "\n",
    "#Function to find second largest number\n",
    "def find_secondLastNum(num_list):\n",
    "    max1 = 0\n",
    "    max2 = 0\n",
    "    for n in num_list:\n",
    "        if max1>n:\n",
    "            continue\n",
    "        else:\n",
    "            max1 = n\n",
    "            max2 = max1\n",
    "            \n",
    "    print(f\"Number List: {number_list} \")\n",
    "    print(f\"Second Largest Number: {max2}\")\n",
    "\n",
    "find_secondLastNum(number_list)"
   ]
  }
 ],
 "metadata": {
  "kernelspec": {
   "display_name": "Python 3",
   "language": "python",
   "name": "python3"
  },
  "language_info": {
   "codemirror_mode": {
    "name": "ipython",
    "version": 3
   },
   "file_extension": ".py",
   "mimetype": "text/x-python",
   "name": "python",
   "nbconvert_exporter": "python",
   "pygments_lexer": "ipython3",
   "version": "3.13.6"
  }
 },
 "nbformat": 4,
 "nbformat_minor": 5
}
