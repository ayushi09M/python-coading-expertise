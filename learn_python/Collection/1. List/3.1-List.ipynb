{
 "cells": [
  {
   "cell_type": "markdown",
   "id": "ef860e10",
   "metadata": {},
   "source": [
    "##### 🛍️: List [] is a ordered collection having duplicate items with mixed data types.\n",
    "\n",
    "- A list is a collection of items (numbers, strings, even other lists) stored in a single variable.\n",
    "- Think of it like a box with compartments: you can put many items inside, and you can grab them by their position (index).\n",
    "- A list is like a shopping bag that can hold ordered items, including duplicates, and you can add/remove/change things anytime.\n",
    "\n",
    "#### ✅ Features of a List\n",
    "\n",
    "1. Ordered → Keeps items in the order you added them.\n",
    "2. Mutable → You can change items (add, update, delete).\n",
    "3. Allows duplicates → Same item can appear multiple times.\n",
    "4. Can store mixed data types → Strings, numbers, even other lists.\n",
    "\n",
    "#### 🧠 Quick Mnemonic:\n",
    "\n",
    "1. CRUD (Create, Read, Update, Delete)\n",
    "2. Create → [], list()\n",
    "3. Read/Search → index(), count()\n",
    "4. Update → append(), insert(), extend(), sort(), reverse()\n",
    "5. Delete → remove(), pop(), del, clear()\n",
    "\n",
    "\n",
    "#### 🛠️ Common Methods of List:\n",
    "\n",
    "1) Creating\n",
    "2) Adding \n",
    "3) Removing\n",
    "4) Searching & Sorting\n",
    "5) Copying\n",
    "\n",
    "\n",
    "## Other Functionalities:\n",
    "1. Slicing\n",
    "2. Checking Membership\n",
    "3. Length of List\n",
    "\n",
    "## Iteration \n",
    "1. For loop\n",
    "2. With index\n",
    "3. While Loop\n",
    "4. List Comprehension\n",
    "\n",
    "#### 🧠 Quick Recap\n",
    "\n",
    "1. Add → append(), insert(), extend()\n",
    "2. Remove → remove(), pop(), del, clear()\n",
    "3. Search → index(), count()\n",
    "4. Sort → sort(), reverse()\n",
    "5. Copy → copy(), list()\n",
    "6. Iterate → for loop, while loop, list comprehension\n",
    "\n"
   ]
  },
  {
   "cell_type": "code",
   "execution_count": 2,
   "id": "729b8a1c",
   "metadata": {},
   "outputs": [],
   "source": [
    "# 1. Create a List\n",
    "empty = []                  # empty list\n",
    "str = list()                # emoty list (2nd way)\n",
    "nums = [1,2,3,4,5]          # list of num\n",
    "words = list((\"hi\", \"hello\")) # using list() constructor\n",
    "mix = [1, \"Ayushi\", 23.5, [10,20]]"
   ]
  },
  {
   "cell_type": "code",
   "execution_count": 3,
   "id": "e403b65e",
   "metadata": {},
   "outputs": [
    {
     "name": "stdout",
     "output_type": "stream",
     "text": [
      "['apple', 'banana', 'cherry']\n"
     ]
    }
   ],
   "source": [
    "# 2. Adding Items\n",
    "fruits = [\"apple\", \"banana\", \"cherry\"]\n",
    "print(fruits)   # ['apple', 'banana', 'cherry']\n",
    "\n",
    "fruits.append(\"mango\")               # at the end\n",
    "fruits.insert(1, \"Kiwi\")             # at at index\n",
    "fruits.extend(\"grapes\",\"pomegranate\")# add multiple items"
   ]
  },
  {
   "cell_type": "code",
   "execution_count": 5,
   "id": "dadbcb10",
   "metadata": {},
   "outputs": [],
   "source": [
    "# 3. Removing Items\n",
    "fruits.remove(\"banana\")    # remove by value\n",
    "fruits.pop()               # remove last item\n",
    "fruits.pop(2)              # remove by index\n",
    "del fruits[0]              # delete by index\n",
    "fruits.clear()             # empty the list"
   ]
  },
  {
   "cell_type": "code",
   "execution_count": 4,
   "id": "8f45d8c9",
   "metadata": {},
   "outputs": [
    {
     "name": "stdout",
     "output_type": "stream",
     "text": [
      "1\n",
      "3\n"
     ]
    }
   ],
   "source": [
    "# 4. Searching & Counting\n",
    "numbers = [1, 2, 3, 2, 4]\n",
    "print(numbers.index(2))   # first index of 2 → 1\n",
    "print(numbers.count(2))   # how many 2's → 2\n"
   ]
  },
  {
   "cell_type": "code",
   "execution_count": 6,
   "id": "f3d4244c",
   "metadata": {},
   "outputs": [],
   "source": [
    "# 5. Sorting & Reversing\n",
    "nums = [4, 1, 7, 3]\n",
    "nums.sort()               # ascending → [1, 3, 4, 7]\n",
    "nums.sort(reverse=True)   # descending → [7, 4, 3, 1]\n",
    "nums.reverse()            # reverse current order\n"
   ]
  },
  {
   "cell_type": "code",
   "execution_count": 7,
   "id": "50a2e054",
   "metadata": {},
   "outputs": [],
   "source": [
    "# ***** Very Imp******** \n",
    "# 6. Copying \n",
    "a = [1,2,3]\n",
    "b = a.copy() # create a new copy\n",
    "c = list(a)  # another way"
   ]
  },
  {
   "cell_type": "code",
   "execution_count": 8,
   "id": "ad73c47d",
   "metadata": {},
   "outputs": [
    {
     "name": "stdout",
     "output_type": "stream",
     "text": [
      "['banana', 'cherry']\n",
      "['apple', 'banana']\n",
      "['cherry', 'mango']\n",
      "['mango', 'cherry', 'banana', 'apple']\n"
     ]
    }
   ],
   "source": [
    "# Other Functionalities\n",
    "# 7. Slicing (sub-parts of list)\n",
    "\n",
    "fruits = [\"apple\", \"banana\", \"cherry\", \"mango\"]\n",
    "print(fruits[1:3])     # ['banana', 'cherry']\n",
    "print(fruits[:2])      # ['apple', 'banana']\n",
    "print(fruits[2:])      # ['cherry', 'mango']\n",
    "print(fruits[::-1])    # reverse → ['mango', 'cherry', 'banana', 'apple']\n",
    "\n"
   ]
  },
  {
   "cell_type": "code",
   "execution_count": 9,
   "id": "fb512258",
   "metadata": {},
   "outputs": [
    {
     "name": "stdout",
     "output_type": "stream",
     "text": [
      "True\n",
      "True\n"
     ]
    }
   ],
   "source": [
    "# 7. Checking Membership\n",
    "print(\"apple\" in fruits)    # True\n",
    "print(\"kiwi\" not in fruits) # True\n",
    "\n"
   ]
  },
  {
   "cell_type": "code",
   "execution_count": 10,
   "id": "2289004d",
   "metadata": {},
   "outputs": [
    {
     "name": "stdout",
     "output_type": "stream",
     "text": [
      "4\n"
     ]
    }
   ],
   "source": [
    "# 8. Length of List\n",
    "print(len(fruits))   # 4\n"
   ]
  },
  {
   "cell_type": "code",
   "execution_count": 14,
   "id": "fb1743bf",
   "metadata": {},
   "outputs": [
    {
     "name": "stdout",
     "output_type": "stream",
     "text": [
      "apple\n",
      "banana\n",
      "cherry\n",
      "mango\n",
      "\n",
      "apple\n",
      "banana\n",
      "cherry\n",
      "mango\n",
      "\n",
      "0 apple\n",
      "1 banana\n",
      "2 cherry\n",
      "3 mango\n",
      "\n",
      "[1, 4, 9, 16]\n"
     ]
    }
   ],
   "source": [
    "# 9. Iterating Over List\n",
    "\n",
    "## 1. Simple For Loop\n",
    "for item in fruits:\n",
    "    print(item)\n",
    "\n",
    "print()\n",
    "## 2. Using While Loop\n",
    "i = 0\n",
    "while i < len(fruits):\n",
    "    print(fruits[i])\n",
    "    i += 1\n",
    "\n",
    "print()\n",
    "## 3. With Index\n",
    "for i in range(len(fruits)):\n",
    "    print(i, fruits[i])\n",
    "\n",
    "print()\n",
    "## 4. List Comprehension\n",
    "\n",
    "## - A short way of writing loops.\n",
    "nums = [1, 2, 3, 4]\n",
    "squares = [x*x for x in nums]  \n",
    "print(squares)   # [1, 4, 9, 16]\n",
    "\n",
    "\n",
    "\n"
   ]
  }
 ],
 "metadata": {
  "kernelspec": {
   "display_name": "Python 3",
   "language": "python",
   "name": "python3"
  },
  "language_info": {
   "codemirror_mode": {
    "name": "ipython",
    "version": 3
   },
   "file_extension": ".py",
   "mimetype": "text/x-python",
   "name": "python",
   "nbconvert_exporter": "python",
   "pygments_lexer": "ipython3",
   "version": "3.13.6"
  }
 },
 "nbformat": 4,
 "nbformat_minor": 5
}
