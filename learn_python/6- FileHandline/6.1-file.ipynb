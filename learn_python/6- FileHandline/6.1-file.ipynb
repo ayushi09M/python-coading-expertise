{
 "cells": [
  {
   "cell_type": "markdown",
   "id": "5af7bb01",
   "metadata": {},
   "source": [
    "#### 📘 Python File Handling Tutorial\n",
    "\n",
    "Python provides powerful tools to work with **files and directories**.  \n",
    "This tutorial covers everything from opening files, reading/writing data, handling directories, and using modern modules like `pathlib`.\n",
    "\n",
    "---\n",
    "\n",
    "#### 1. Opening Files\n",
    "\n",
    "In Python, you use the built-in `open()` function:\n",
    "\n",
    "```python\n",
    "file = open(\"example.txt\", \"mode\")\n"
   ]
  },
  {
   "cell_type": "markdown",
   "id": "ebd141d3",
   "metadata": {},
   "source": [
    "#### Common File Modes:\n",
    "\n",
    "\"r\" – Read (default)  \n",
    "\"w\" – Write (overwrite existing content)  \n",
    "\"a\" – Append (add to the end of file)  \n",
    "\"x\" – Create (error if file exists)  \n",
    "\"rb\" – Read binary  \n",
    "\"wb\" – Write binary  \n",
    "\n",
    "✔️ Tip: Always close your files after use with file.close() OR use the safer with statement."
   ]
  },
  {
   "cell_type": "markdown",
   "id": "afe908ae",
   "metadata": {},
   "source": [
    "#### 2. Using the with Statement\n",
    "The with statement ensures files are properly closed."
   ]
  },
  {
   "cell_type": "code",
   "execution_count": 4,
   "id": "0c0656c5",
   "metadata": {},
   "outputs": [],
   "source": [
    "with open(\"example.txt\", \"w\") as file:\n",
    "    file.write(\"Python is fun\\n\")"
   ]
  },
  {
   "cell_type": "markdown",
   "id": "c97cf6df",
   "metadata": {},
   "source": [
    "#### 3. Reading Files\n",
    "\n",
    "Python provides multiple ways to read files:"
   ]
  },
  {
   "cell_type": "code",
   "execution_count": 7,
   "id": "9c88d85c",
   "metadata": {},
   "outputs": [],
   "source": [
    "file= open(\"example.txt\",\"r\")\n",
    "content = file.read()        # Read full content\n",
    "line = file.readline()       # Read one line\n",
    "lines = file.readlines()     # Read all lines into a list\n",
    "\n",
    "file.close()"
   ]
  },
  {
   "cell_type": "markdown",
   "id": "63dead72",
   "metadata": {},
   "source": [
    "#### 4. Writing to Files"
   ]
  },
  {
   "cell_type": "code",
   "execution_count": 8,
   "id": "72f02efd",
   "metadata": {},
   "outputs": [],
   "source": [
    "# Writing new content (overwrite)\n",
    "with open(\"example.txt\", \"w\") as file:\n",
    "    file.write(\"Hello World!\\n\")\n",
    "\n",
    "# Appending new content\n",
    "with open(\"example.txt\", \"a\") as file:\n",
    "    file.write(\"Appended line.\\n\")\n"
   ]
  },
  {
   "cell_type": "markdown",
   "id": "88b74a57",
   "metadata": {},
   "source": [
    "#### 5. File Methods Reference"
   ]
  },
  {
   "cell_type": "markdown",
   "id": "a934454d",
   "metadata": {},
   "source": [
    "| Method                  | Description            |\n",
    "| ----------------------- | ---------------------- |\n",
    "| `file.read()`           | Reads full content     |\n",
    "| `file.readline()`       | Reads one line         |\n",
    "| `file.readlines()`      | Reads all lines (list) |\n",
    "| `file.write(string)`    | Writes a string        |\n",
    "| `file.writelines(list)` | Writes multiple lines  |\n"
   ]
  },
  {
   "cell_type": "markdown",
   "id": "f7ffd1eb",
   "metadata": {},
   "source": [
    "##### 6. Checking File Existence\n",
    "\n",
    "You can use the os module to check if a file exists:"
   ]
  },
  {
   "cell_type": "code",
   "execution_count": null,
   "id": "51c89c9b",
   "metadata": {},
   "outputs": [],
   "source": [
    "import os\n",
    "\n",
    "if os.path.exists(\"example.txt\"):\n",
    "    print(\"File exists!\")\n"
   ]
  },
  {
   "cell_type": "markdown",
   "id": "a78b4cd1",
   "metadata": {},
   "source": [
    "#### 7. Deleting Files"
   ]
  },
  {
   "cell_type": "code",
   "execution_count": null,
   "id": "c35b62ee",
   "metadata": {},
   "outputs": [],
   "source": [
    "import os\n",
    "\n",
    "os.remove(\"example.txt\")  # Delete a file\n"
   ]
  },
  {
   "cell_type": "markdown",
   "id": "d33ef4f6",
   "metadata": {},
   "source": [
    "#### 8. Working with Directories\n",
    "\n",
    "The os module also helps with folders:"
   ]
  },
  {
   "cell_type": "code",
   "execution_count": 9,
   "id": "1dc49627",
   "metadata": {},
   "outputs": [],
   "source": [
    "import os\n",
    "\n",
    "cwd = os.getcwd()         # Get current directory\n",
    "os.listdir(\".\")           # List files in current directory\n",
    "os.mkdir(\"MyFolder\")      # Create a folder\n",
    "os.rmdir(\"MyFolder\")      # Remove a folder\n"
   ]
  },
  {
   "cell_type": "markdown",
   "id": "671b6527",
   "metadata": {},
   "source": [
    "#### 9. File Paths: Absolute vs Relative\n",
    "\n",
    "- Absolute path: Full path in the system\n",
    "e.g., /Users/John/Documents/example.txt\n",
    "\n",
    "- Relative path: Relative to current working directory\n",
    "e.g., ./example.txt"
   ]
  },
  {
   "cell_type": "code",
   "execution_count": null,
   "id": "813ef2ee",
   "metadata": {},
   "outputs": [],
   "source": [
    "import os\n",
    "\n",
    "print(os.getcwd())  # Show current working directory\n"
   ]
  },
  {
   "cell_type": "markdown",
   "id": "b0f91fae",
   "metadata": {},
   "source": [
    "#### 10. Using pathlib (Modern Way)\n",
    "\n",
    "The pathlib module is cleaner and object-oriented:"
   ]
  },
  {
   "cell_type": "code",
   "execution_count": null,
   "id": "de6eb8e4",
   "metadata": {},
   "outputs": [],
   "source": [
    "from pathlib import Path\n",
    "\n",
    "# Current directory\n",
    "cwd = Path.cwd()\n",
    "\n",
    "# Create a file and write to it\n",
    "file_path = cwd / \"example.txt\"\n",
    "file_path.write_text(\"Hello from pathlib!\")\n",
    "\n",
    "# Read file content\n",
    "content = file_path.read_text()\n",
    "print(content)\n",
    "\n",
    "# Check if file exists\n",
    "print(file_path.exists())\n",
    "\n",
    "# Delete file\n",
    "file_path.unlink()\n"
   ]
  },
  {
   "cell_type": "markdown",
   "id": "00b9482c",
   "metadata": {},
   "source": [
    "#### ✅ Quick Summary\n",
    "\n",
    "1. open() → \"r\", \"w\", \"a\", \"x\", \"rb\", \"wb\"\n",
    "2. with open() → Best practice (auto-close file).\n",
    "3. Reading → read( ), readline(), readlines().\n",
    "4. Writing → write(), writelines().\n",
    "5. Directories → os module: getcwd(), listdir(), mkdir(), rmdir().\n",
    "6. Paths → Use pathlib for modern, cleaner code."
   ]
  },
  {
   "cell_type": "markdown",
   "id": "2adf50e4",
   "metadata": {},
   "source": []
  },
  {
   "cell_type": "markdown",
   "id": "f5625970",
   "metadata": {},
   "source": []
  }
 ],
 "metadata": {
  "kernelspec": {
   "display_name": "Python 3",
   "language": "python",
   "name": "python3"
  },
  "language_info": {
   "codemirror_mode": {
    "name": "ipython",
    "version": 3
   },
   "file_extension": ".py",
   "mimetype": "text/x-python",
   "name": "python",
   "nbconvert_exporter": "python",
   "pygments_lexer": "ipython3",
   "version": "3.13.6"
  }
 },
 "nbformat": 4,
 "nbformat_minor": 5
}
