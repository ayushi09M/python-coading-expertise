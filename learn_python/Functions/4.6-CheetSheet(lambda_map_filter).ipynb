{
 "cells": [
  {
   "cell_type": "markdown",
   "id": "7ae120c5",
   "metadata": {},
   "source": [
    "#### Memory Tip / Cheat\n",
    "\n",
    "- **Lambda** → defines the function (mini shortcut).  \n",
    "- **Map** → transforms all items.  (updation in all elements)\n",
    "- **Filter** → selects only items that satisfy a condition.  \n",
    "- **Map + Filter** → first filter, then transform/update.  \n",
    "\n",
    "Think of it as a **factory line**:  \n",
    "1. **Raw material** = iterable  \n",
    "2. **Filter** = remove unwanted  \n",
    "3. **Map** = change shape/transform  \n",
    "4. **Output** = final product  \n",
    "\n",
    "---\n",
    "\n",
    "##### Improved Simple Way to Remember\n",
    "\n",
    "| Concept      | Notation                                                        | Meaning                               |\n",
    "|--------------|-----------------------------------------------------------------|---------------------------------------|\n",
    "| Lambda       | `lambda x: ...`                                                 | Quick inline function                 |\n",
    "| Map          | `list(map(lambda x: ..., iterable))`                            | Transform each item                   |\n",
    "| Filter       | `list(filter(lambda x: ..., iterable))`                         | Keep items that pass a test           |\n",
    "| Map + Filter | `list(map(lambda x: ..., filter(lambda x: ..., iterable)))`     | Filter first, then transform          |\n",
    "\n",
    "---\n",
    "\n",
    "#### Rule of Thumb: \n",
    "  - Filter first → Map later (select → transform).\n",
    "\n",
    "```python\n",
    "numbers = [1,2,3,4,5,6]\n",
    "even_squares = list(map(lambda x: x**2, filter(lambda x: x%2==0, numbers)))\n",
    "print(even_squares)  # [4,16,36]\n"
   ]
  },
  {
   "cell_type": "markdown",
   "id": "5663c872",
   "metadata": {},
   "source": [
    "[1,2,3,4,5,6]  --filter--> [2,4,6]  --map--> [4,16,36]\n"
   ]
  }
 ],
 "metadata": {
  "language_info": {
   "name": "python"
  }
 },
 "nbformat": 4,
 "nbformat_minor": 5
}
