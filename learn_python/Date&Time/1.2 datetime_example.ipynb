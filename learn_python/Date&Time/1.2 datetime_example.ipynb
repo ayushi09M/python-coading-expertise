{
 "cells": [
  {
   "cell_type": "code",
   "execution_count": 2,
   "metadata": {},
   "outputs": [
    {
     "name": "stdout",
     "output_type": "stream",
     "text": [
      "Now: 2025-08-22 19:06:41.837630\n",
      "Today: 2025-08-22\n"
     ]
    }
   ],
   "source": [
    "import datetime\n",
    "\n",
    "# Current date and time\n",
    "now = datetime.datetime.now()\n",
    "print(\"Now:\", now)\n",
    "\n",
    "# Current date\n",
    "today = datetime.date.today()\n",
    "print(\"Today:\", today)"
   ]
  },
  {
   "cell_type": "markdown",
   "metadata": {},
   "source": [
    "#### 2. Creating Custom Dates & Times"
   ]
  },
  {
   "cell_type": "code",
   "execution_count": 3,
   "metadata": {},
   "outputs": [
    {
     "name": "stdout",
     "output_type": "stream",
     "text": [
      "Christmas: 2025-12-25\n",
      "Custom Time: 14:30:00\n",
      "Custom DateTime: 2025-12-25 14:30:00\n"
     ]
    }
   ],
   "source": [
    "# Creating custom date, time, and datetime\n",
    "d = datetime.date(2025, 12, 25)\n",
    "print(\"Christmas:\", d)\n",
    "\n",
    "t = datetime.time(14, 30, 0)\n",
    "print(\"Custom Time:\", t)\n",
    "\n",
    "dt = datetime.datetime(2025, 12, 25, 14, 30, 0)\n",
    "print(\"Custom DateTime:\", dt)"
   ]
  },
  {
   "cell_type": "markdown",
   "metadata": {},
   "source": [
    "#### 3. Extracting Components"
   ]
  },
  {
   "cell_type": "code",
   "execution_count": 4,
   "metadata": {},
   "outputs": [
    {
     "name": "stdout",
     "output_type": "stream",
     "text": [
      "Year: 2025\n",
      "Month: 8\n",
      "Day: 22\n",
      "Hour: 19\n",
      "Minute: 7\n",
      "Weekday (0=Mon): 4\n"
     ]
    }
   ],
   "source": [
    "import datetime\n",
    "now = datetime.datetime.now()\n",
    "print(\"Year:\", now.year)\n",
    "print(\"Month:\", now.month)\n",
    "print(\"Day:\", now.day)\n",
    "print(\"Hour:\", now.hour)\n",
    "print(\"Minute:\", now.minute)\n",
    "print(\"Weekday (0=Mon):\", now.weekday())"
   ]
  },
  {
   "cell_type": "markdown",
   "metadata": {},
   "source": [
    "#### 4. Formatting Dates with `strftime`"
   ]
  },
  {
   "cell_type": "code",
   "execution_count": 5,
   "metadata": {},
   "outputs": [
    {
     "name": "stdout",
     "output_type": "stream",
     "text": [
      "YYYY-MM-DD: 2025-08-22\n",
      "Day name: Friday\n",
      "Month name: August\n",
      "12-hour format: 07:07 PM\n",
      "24-hour format: 19:07\n"
     ]
    }
   ],
   "source": [
    "now = datetime.datetime.now()\n",
    "print(\"YYYY-MM-DD:\", now.strftime(\"%Y-%m-%d\"))\n",
    "print(\"Day name:\", now.strftime(\"%A\"))\n",
    "print(\"Month name:\", now.strftime(\"%B\"))\n",
    "print(\"12-hour format:\", now.strftime(\"%I:%M %p\"))\n",
    "print(\"24-hour format:\", now.strftime(\"%H:%M\"))"
   ]
  },
  {
   "cell_type": "markdown",
   "metadata": {},
   "source": [
    "#### 5. Converting String to Date with `strptime`"
   ]
  },
  {
   "cell_type": "code",
   "execution_count": 6,
   "metadata": {},
   "outputs": [
    {
     "name": "stdout",
     "output_type": "stream",
     "text": [
      "Converted datetime: 2025-08-22 14:45:30\n"
     ]
    }
   ],
   "source": [
    "date_str = \"22-08-2025 14:45:30\"\n",
    "dt = datetime.datetime.strptime(date_str, \"%d-%m-%Y %H:%M:%S\")\n",
    "print(\"Converted datetime:\", dt)"
   ]
  },
  {
   "cell_type": "markdown",
   "metadata": {},
   "source": [
    "#### 6. Timedelta (Date Arithmetic)"
   ]
  },
  {
   "cell_type": "code",
   "execution_count": 7,
   "metadata": {},
   "outputs": [
    {
     "name": "stdout",
     "output_type": "stream",
     "text": [
      "Today: 2025-08-22 19:08:34.597276\n",
      "Next Week: 2025-08-29 19:08:34.597276\n",
      "30 min ago: 2025-08-22 18:38:34.597276\n",
      "Days left: 130\n"
     ]
    }
   ],
   "source": [
    "from datetime import timedelta\n",
    "\n",
    "today = datetime.datetime.now()\n",
    "print(\"Today:\", today)\n",
    "\n",
    "print(\"Next Week:\", today + timedelta(days=7))\n",
    "print(\"30 min ago:\", today - timedelta(minutes=30))\n",
    "\n",
    "end = datetime.datetime(2025, 12, 31)\n",
    "print(\"Days left:\", (end - today).days)"
   ]
  },
  {
   "cell_type": "markdown",
   "metadata": {},
   "source": [
    "#### 7. `time` Module"
   ]
  },
  {
   "cell_type": "code",
   "execution_count": 8,
   "metadata": {},
   "outputs": [
    {
     "name": "stdout",
     "output_type": "stream",
     "text": [
      "Epoch time: 1755869952.3946435\n",
      "Local time: Fri Aug 22 19:09:12 2025\n",
      "Waiting 2 seconds...\n",
      "Done!\n"
     ]
    }
   ],
   "source": [
    "import time\n",
    "print(\"Epoch time:\", time.time())\n",
    "print(\"Local time:\", time.ctime())\n",
    "\n",
    "print(\"Waiting 2 seconds...\")\n",
    "time.sleep(2)\n",
    "print(\"Done!\")"
   ]
  },
  {
   "cell_type": "markdown",
   "metadata": {},
   "source": [
    "#### 8. `calendar` Module"
   ]
  },
  {
   "cell_type": "code",
   "execution_count": 9,
   "metadata": {},
   "outputs": [
    {
     "name": "stdout",
     "output_type": "stream",
     "text": [
      "    August 2025\n",
      "Mo Tu We Th Fr Sa Su\n",
      "             1  2  3\n",
      " 4  5  6  7  8  9 10\n",
      "11 12 13 14 15 16 17\n",
      "18 19 20 21 22 23 24\n",
      "25 26 27 28 29 30 31\n",
      "\n",
      "Leap year 2024? True\n"
     ]
    }
   ],
   "source": [
    "import calendar\n",
    "print(calendar.month(2025, 8))\n",
    "print(\"Leap year 2024?\", calendar.isleap(2024))"
   ]
  },
  {
   "cell_type": "markdown",
   "metadata": {},
   "source": [
    "#### 💡 Practice Questions\n",
    "1. Print today’s date in format: `Day: Friday, Date: 22-August-2025`\n",
    "2. Find how many days are left until your next birthday.\n",
    "3. Convert the string `\"15/09/2025\"` into a datetime object.\n",
    "4. Print current time in 12-hour format with AM/PM.\n",
    "5. Ask user for number of days → show future date."
   ]
  }
 ],
 "metadata": {
  "kernelspec": {
   "display_name": "Python 3",
   "language": "python",
   "name": "python3"
  },
  "language_info": {
   "codemirror_mode": {
    "name": "ipython",
    "version": 3
   },
   "file_extension": ".py",
   "mimetype": "text/x-python",
   "name": "python",
   "nbconvert_exporter": "python",
   "pygments_lexer": "ipython3",
   "version": "3.13.6"
  }
 },
 "nbformat": 4,
 "nbformat_minor": 2
}
