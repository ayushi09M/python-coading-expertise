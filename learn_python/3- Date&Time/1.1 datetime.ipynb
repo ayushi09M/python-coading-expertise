{
 "cells": [
  {
   "cell_type": "markdown",
   "id": "cbae8add",
   "metadata": {},
   "source": [
    "#### ⏰ Python Date & Time Tutorial\n",
    "\n",
    "#### 1️⃣ Introduction\n",
    "\n",
    "Working with **date and time** is common in almost every program – from showing the current time to handling deadlines, logs, or timestamps.  \n",
    "Python makes this easy with its built-in **`datetime`** module."
   ]
  },
  {
   "cell_type": "markdown",
   "id": "43f6ced8",
   "metadata": {},
   "source": [
    "#### 🌟 1. Why Learn Date & Time?\n",
    "\n",
    "Think about real life:\n",
    "\n",
    "- ⏰ Alarm apps → Need time  \n",
    "- 📅 Events & reminders → Need date  \n",
    "- 🚆 Train/Flight booking → Date + Time  \n",
    "- 🎂 Birthday calculator → Days left  \n",
    "\n",
    "👉 That’s why Python gives us tools to handle **date and time** easily.\n"
   ]
  },
  {
   "cell_type": "markdown",
   "id": "a8bdb2f5",
   "metadata": {},
   "source": [
    "#### 🛠 2. Modules for Date & Time\n",
    "\n",
    "Python has 3 main modules:\n",
    "\n",
    "1. **`datetime`** → Most used (dates, times, differences).  \n",
    "2. **`time`** → For working with system clock, delays.  \n",
    "3. **`calendar`** → For printing calendars, checking leap years."
   ]
  },
  {
   "cell_type": "markdown",
   "id": "cfcef191",
   "metadata": {},
   "source": [
    "\n",
    "### 📌 Common Functions & Classes\n",
    "| Function / Class | Purpose | Example |\n",
    "|------------------|---------|---------|\n",
    "| `datetime.now()` | Current date & time | `datetime.datetime.now()` |\n",
    "| `date.today()`   | Current date only | `datetime.date.today()` |\n",
    "| `datetime(year, month, day, hour, min, sec)` | Create datetime object | `datetime(2025, 12, 25, 14, 30, 0)` |\n",
    "| `date(year, month, day)` | Create date | `date(2025, 12, 25)` |\n",
    "| `time(hour, min, sec)` | Create time | `time(14, 30, 0)` |\n",
    "\n",
    "### 📌 Extracting Components\n",
    "| Attribute | Meaning | Example |\n",
    "|-----------|---------|---------|\n",
    "| `.year`   | Year | `2025` |\n",
    "| `.month`  | Month (1-12) | `8` |\n",
    "| `.day`    | Day (1-31) | `22` |\n",
    "| `.hour`   | Hour (0-23) | `16` |\n",
    "| `.minute` | Minute | `45` |\n",
    "| `.second` | Second | `30` |\n",
    "| `.weekday()` | Day of week (Mon=0 … Sun=6) | `4` |\n",
    "\n",
    "### 📌 Formatting with `strftime`\n",
    "| Code | Meaning | Example |\n",
    "|------|---------|---------|\n",
    "| `%Y` | Year (full) | `2025` |\n",
    "| `%y` | Year (short) | `25` |\n",
    "| `%m` | Month number | `08` |\n",
    "| `%B` | Month name (full) | `August` |\n",
    "| `%b` | Month name (short) | `Aug` |\n",
    "| `%d` | Day | `22` |\n",
    "| `%A` | Weekday (full) | `Friday` |\n",
    "| `%a` | Weekday (short) | `Fri` |\n",
    "| `%H` | Hour (24h) | `16` |\n",
    "| `%I` | Hour (12h) | `04` |\n",
    "| `%M` | Minutes | `45` |\n",
    "| `%S` | Seconds | `30` |\n",
    "| `%p` | AM/PM | `PM` |\n",
    "\n",
    "➡️ **Trick**: `strftime` = format to string, `strptime` = parse from string\n",
    "\n",
    "---\n",
    "#### 1. Import datetime\n",
    "``python\n",
    "import datetime\n",
    "```\n"
   ]
  }
 ],
 "metadata": {
  "language_info": {
   "name": "python"
  }
 },
 "nbformat": 4,
 "nbformat_minor": 5
}
