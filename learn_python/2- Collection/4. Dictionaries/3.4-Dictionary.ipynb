{
 "cells": [
  {
   "cell_type": "markdown",
   "id": "cf03caaf",
   "metadata": {},
   "source": [
    "# Python Dictionary Tutorial\n",
    "\n",
    "---\n",
    "In this tutorial, we will learn about **Dictionaries** in Python.\n",
    "\n",
    "A **Dictionary** is a collection of key-value pairs. It is **unordered, mixedData types, mutable, and indexed by keys**.\n"
   ]
  },
  {
   "cell_type": "markdown",
   "id": "d0f6be1e",
   "metadata": {},
   "source": [
    "## 📌 Features of Dictionary\n",
    "- Stores **data as key-value pairs**\n",
    "- **Unordered** (insertion order preserved in Python 3.7+)\n",
    "- **Mutable** → we can add, remove, and update items\n",
    "- Keys must be **unique** and **immutable** (strings, numbers, tuples)\n",
    "- Values can be of **any type**"
   ]
  },
  {
   "cell_type": "markdown",
   "id": "879791d6",
   "metadata": {},
   "source": [
    "## 🔹 Creating Dictionaries"
   ]
  },
  {
   "cell_type": "code",
   "execution_count": null,
   "id": "9ecfcb58",
   "metadata": {},
   "outputs": [],
   "source": [
    "my_dict = {\n",
    "    'name': 'Ayushi',\n",
    "    'age': 23,\n",
    "    'city': 'Indore'\n",
    "}\n",
    "print(my_dict)\n",
    "\n",
    "# Using dict() constructor\n",
    "d = dict(country='India', code=91)\n",
    "print(d)"
   ]
  },
  {
   "cell_type": "markdown",
   "id": "95bf1eb3",
   "metadata": {},
   "source": [
    "## 🔹 Accessing Elements"
   ]
  },
  {
   "cell_type": "code",
   "execution_count": null,
   "id": "725ee8f3",
   "metadata": {},
   "outputs": [],
   "source": [
    "print(my_dict['name'])\n",
    "print(my_dict.get('city'))\n",
    "\n",
    "# Using get() avoids error if key is missing\n",
    "print(my_dict.get('hobby', 'Not Found'))"
   ]
  },
  {
   "cell_type": "markdown",
   "id": "157c4766",
   "metadata": {},
   "source": [
    "## 🔹 Adding & Updating Elements"
   ]
  },
  {
   "cell_type": "code",
   "execution_count": null,
   "id": "92deb4b6",
   "metadata": {},
   "outputs": [],
   "source": [
    "my_dict['age'] = 24  # Update value\n",
    "my_dict['hobby'] = 'Reading'  # Add new key-value pair\n",
    "print(my_dict)"
   ]
  },
  {
   "cell_type": "markdown",
   "id": "69e0756f",
   "metadata": {},
   "source": [
    "## 🔹 Removing Elements"
   ]
  },
  {
   "cell_type": "code",
   "execution_count": null,
   "id": "eb23bce1",
   "metadata": {},
   "outputs": [],
   "source": [
    "my_dict.pop('city')  # Removes key\n",
    "print(my_dict)\n",
    "\n",
    "my_dict.popitem()  # Removes last inserted item\n",
    "print(my_dict)\n",
    "\n",
    "my_dict.clear()  # Removes all items\n",
    "print(my_dict)"
   ]
  },
  {
   "cell_type": "markdown",
   "id": "5626d1f2",
   "metadata": {},
   "source": [
    "## 📌 Dictionary Methods"
   ]
  },
  {
   "cell_type": "code",
   "execution_count": null,
   "id": "e38f47d9",
   "metadata": {},
   "outputs": [],
   "source": [
    "student = {\n",
    "    'name': 'Rahul',\n",
    "    'age': 21,\n",
    "    'marks': 88\n",
    "}\n",
    "\n",
    "print(student.keys())\n",
    "print(student.values())\n",
    "print(student.items())\n",
    "\n",
    "# Update dictionary\n",
    "student.update({'age': 22, 'city': 'Delhi'})\n",
    "print(student)\n",
    "\n",
    "# Copy dictionary\n",
    "new_student = student.copy()\n",
    "print(new_student)"
   ]
  },
  {
   "cell_type": "markdown",
   "id": "d4eead17",
   "metadata": {},
   "source": [
    "## 🔹 Iterating Over Dictionary"
   ]
  },
  {
   "cell_type": "code",
   "execution_count": null,
   "id": "e996e471",
   "metadata": {},
   "outputs": [],
   "source": [
    "for key in student:\n",
    "    print(key, \"->\", student[key])\n",
    "\n",
    "for key, value in student.items():\n",
    "    print(key, value)"
   ]
  },
  {
   "cell_type": "markdown",
   "id": "274db729",
   "metadata": {},
   "source": [
    "## 🔹 Nested Dictionary"
   ]
  },
  {
   "cell_type": "code",
   "execution_count": null,
   "id": "2ff806a9",
   "metadata": {},
   "outputs": [],
   "source": [
    "family = {\n",
    "    'father': {'name': 'Raj', 'age': 50},\n",
    "    'mother': {'name': 'Sunita', 'age': 45},\n",
    "    'child': {'name': 'Ayushi', 'age': 23}\n",
    "}\n",
    "print(family['mother']['name'])"
   ]
  },
  {
   "cell_type": "markdown",
   "id": "7dbfe2df",
   "metadata": {},
   "source": [
    "## ✅ Quick Recap\n",
    "- Dictionary = key-value pairs\n",
    "- Keys → unique & immutable\n",
    "- Values → can be anything\n",
    "- Supports add, update, delete\n",
    "- Methods: `keys()`, `values()`, `items()`, `update()`, `copy()`, `pop()`, `clear()`\n",
    "- Useful for structured data"
   ]
  }
 ],
 "metadata": {
  "language_info": {
   "name": "python"
  }
 },
 "nbformat": 4,
 "nbformat_minor": 5
}
