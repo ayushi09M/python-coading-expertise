{
 "cells": [
  {
   "cell_type": "markdown",
   "id": "b3d7987d",
   "metadata": {},
   "source": [
    "How to Remember\n",
    "\n",
    "List → Ordered, allows duplicates (like a bag of items).\n",
    "\n",
    "Tuple → Ordered but locked (like a fixed bag).\n",
    "\n",
    "Set → Only unique items, unordered (like a box of distinct cards).\n",
    "\n",
    "Dict → Key–Value pairs (like a dictionary in real life)."
   ]
  },
  {
   "cell_type": "markdown",
   "id": "c6dfdde4",
   "metadata": {},
   "source": [
    "| Collection | Ordered?                  | Mutable?         | Allows Duplicates?                | Example                              |\n",
    "| ---------- | ------------------------- | ---------------- | --------------------------------- | ------------------------------------ |\n",
    "| **List**   | ✅ Yes (since Python 3.7+) | ✅ Yes            | ✅ Yes                             | `[\"red\", \"green\", \"blue\"]`           |\n",
    "| **Tuple**  | ✅ Yes                     | ❌ No (Immutable) | ✅ Yes                             | `(\"red\", \"green\", \"blue\")`           |\n",
    "| **Set**    | ❌ No (unordered)          | ✅ Yes            | ❌ No (unique elements only)       | `{\"red\", \"green\", \"blue\"}`           |\n",
    "| **Dict**   | ✅ Yes (since Python 3.7+) | ✅ Yes            | Keys ❌ (must be unique), Values ✅ | `{\"color1\":\"red\", \"color2\":\"green\"}` |\n"
   ]
  },
  {
   "cell_type": "markdown",
   "id": "76669874",
   "metadata": {},
   "source": [
    "| Collection | Empty Syntax                            | Notes                                                 |\n",
    "| ---------- | --------------------------------------- | ----------------------------------------------------- |\n",
    "| **List**   | `my_list = []` or `my_list = list()`    | Use `[]` most of the time                             |\n",
    "| **Tuple**  | `my_tuple = ()` or `my_tuple = tuple()` | Must include `,` if single element → `(\"a\",)`         |\n",
    "| **Set**    | `my_set = set()` ✅                      | ⚠️ `my_set = {}` creates an **empty dict**, not a set |\n",
    "| **Dict**   | `my_dict = {}` or `my_dict = dict()`    | `{}` is default for empty dict                        |\n"
   ]
  },
  {
   "cell_type": "markdown",
   "id": "f005681f",
   "metadata": {},
   "source": [
    "About Set\n",
    "\n",
    "A set is an unordered collection of unique elements.\n",
    "\n",
    "You cannot have duplicates.\n",
    "\n",
    "Very useful for mathematical operations like:\n",
    "\n",
    "1. Union (A | B)\n",
    "\n",
    "2. Intersection (A & B)\n",
    "\n",
    "3. Difference (A - B)\n",
    "\n",
    "4. Symmetric Difference (A ^ B)"
   ]
  },
  {
   "cell_type": "code",
   "execution_count": 1,
   "id": "52baac76",
   "metadata": {},
   "outputs": [
    {
     "name": "stdout",
     "output_type": "stream",
     "text": [
      "{'green', 'red', 'blue'}\n",
      "{1, 2, 3, 4, 5}\n",
      "{3}\n",
      "{1, 2}\n",
      "{1, 2, 4, 5}\n"
     ]
    }
   ],
   "source": [
    "# Create sets\n",
    "colors = {\"red\", \"blue\", \"green\", \"red\"}   # duplicate \"red\" ignored\n",
    "print(colors)   # {'red', 'blue', 'green'}\n",
    "\n",
    "# Add\n",
    "colors.add(\"yellow\")\n",
    "\n",
    "# Remove\n",
    "colors.remove(\"blue\")   # error if not exists\n",
    "colors.discard(\"pink\")  # safe remove (no error if not exists)\n",
    "\n",
    "# Set operations\n",
    "A = {1, 2, 3}\n",
    "B = {3, 4, 5}\n",
    "\n",
    "print(A | B)   # Union -> {1, 2, 3, 4, 5}\n",
    "print(A & B)   # Intersection -> {3}\n",
    "print(A - B)   # Difference -> {1, 2}\n",
    "print(A ^ B)   # Symmetric Difference -> {1, 2, 4, 5}\n"
   ]
  },
  {
   "cell_type": "code",
   "execution_count": 2,
   "id": "d169f86f",
   "metadata": {},
   "outputs": [
    {
     "name": "stdout",
     "output_type": "stream",
     "text": [
      "<class 'list'>\n",
      "<class 'tuple'>\n",
      "<class 'set'>\n",
      "<class 'dict'>\n"
     ]
    }
   ],
   "source": [
    "# Empty List\n",
    "my_list = []\n",
    "print(type(my_list))   # <class 'list'>\n",
    "\n",
    "# Empty Tuple\n",
    "my_tuple = ()\n",
    "print(type(my_tuple))  # <class 'tuple'>\n",
    "\n",
    "# Empty Set\n",
    "my_set = set()\n",
    "print(type(my_set))    # <class 'set'>\n",
    "\n",
    "# Empty Dictionary\n",
    "my_dict = {}\n",
    "print(type(my_dict))   # <class 'dict'>\n"
   ]
  },
  {
   "cell_type": "markdown",
   "id": "c767a324",
   "metadata": {},
   "source": [
    "⚡ Quick Tip:\n",
    "\n",
    "[] => list  \n",
    "() => tuuple  \n",
    "{} => dict  \n",
    "set() => set  "
   ]
  }
 ],
 "metadata": {
  "kernelspec": {
   "display_name": "Python 3",
   "language": "python",
   "name": "python3"
  },
  "language_info": {
   "codemirror_mode": {
    "name": "ipython",
    "version": 3
   },
   "file_extension": ".py",
   "mimetype": "text/x-python",
   "name": "python",
   "nbconvert_exporter": "python",
   "pygments_lexer": "ipython3",
   "version": "3.13.6"
  }
 },
 "nbformat": 4,
 "nbformat_minor": 5
}
