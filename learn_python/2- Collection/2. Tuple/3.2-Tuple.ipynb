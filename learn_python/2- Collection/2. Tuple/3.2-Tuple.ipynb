{
 "cells": [
  {
   "cell_type": "markdown",
   "id": "e324bb5b",
   "metadata": {},
   "source": [
    "# 🎶 Python Tuple Tutorial\n"
   ]
  },
  {
   "cell_type": "markdown",
   "id": "23f41e6e",
   "metadata": {},
   "source": [
    "\n",
    "## 📖 What is a Tuple?\n",
    "A **Tuple** in Python is like a **playlist** 🎵:  \n",
    "- It stores multiple items in a single variable.  \n",
    "- Items are **ordered** (they maintain their position).  \n",
    "- Tuples are **immutable** → once created, you cannot change them.  \n",
    "- They **allow duplicates**.  \n",
    "- They can store **different data types** (string, int, float, list, etc.).  \n",
    "Ex: Train Ticket (A1, A2, A3)\n"
   ]
  },
  {
   "cell_type": "markdown",
   "id": "a93ced6f",
   "metadata": {},
   "source": [
    "## 🛠️ Creating Tuples"
   ]
  },
  {
   "cell_type": "markdown",
   "id": "404b932c",
   "metadata": {},
   "source": [
    "\n",
    "We can create tuples in different ways:  \n",
    "1. Using parentheses `()`  \n",
    "2. Using the `tuple()` constructor  \n",
    "3. With one element tuple (need a comma `,`)  \n"
   ]
  },
  {
   "cell_type": "code",
   "execution_count": null,
   "id": "df5a2243",
   "metadata": {},
   "outputs": [],
   "source": [
    "# -----------------------------\n",
    "# Tuple CRUD Operations\n",
    "# -----------------------------\n",
    "\n",
    "# Step 1: Create a tuple from user input\n",
    "# We first use a list to collect inputs because lists are mutable\n",
    "length = int(input(\"Enter number of colors: \"))  # Ask user how many colors to input\n",
    "color_list = []  # Initialize an empty list to store colors temporarily\n",
    "\n",
    "# Loop to take each color input from the user\n",
    "for i in range(length):\n",
    "    color = input(\"Enter a color: \")  # Take color input\n",
    "    color_list.append(color)          # Add it to the list\n",
    "\n",
    "# Convert the list into a tuple, because tuples are immutable\n",
    "colors = tuple(color_list)  \n",
    "print(\"Original Tuple:\", colors)  # Display the original tuple\n",
    "\n",
    "# Step 2: CREATE (Add a new color by concatenation)\n",
    "# Tuples are immutable, so we cannot use append()\n",
    "# Instead, we create a new tuple by concatenating (\"Yellow\",)\n",
    "colors = colors + (\"Yellow\",)  \n",
    "print(\"After Create (add Yellow):\", colors)  # Display after adding new color\n",
    "\n",
    "# Step 3: UPDATE (Replace 'Green' with 'Black')\n",
    "# Tuples are immutable, so we cannot directly change an element\n",
    "# Solution: Use a tuple comprehension (generator inside tuple())\n",
    "# Replace 'Green' with 'Black', keep other colors the same\n",
    "colors = tuple(\"Black\" if c == \"Green\" else c for c in colors)\n",
    "print(\"After Update (replace Green with Black):\", colors)\n",
    "\n",
    "# Step 4: DELETE (Remove 'Red')\n",
    "# Tuples are immutable, so we cannot remove an element directly\n",
    "# Solution: Create a new tuple without the 'Red' element\n",
    "colors = tuple(c for c in colors if c != \"Red\")\n",
    "print(\"After Delete (remove Red):\", colors)\n"
   ]
  },
  {
   "cell_type": "code",
   "execution_count": null,
   "id": "52187008",
   "metadata": {},
   "outputs": [
    {
     "name": "stdout",
     "output_type": "stream",
     "text": [
      "Empty tuple: ()\n",
      "Fruits: ('apple', 'banana', 'cherry')\n",
      "Mixed tuple: (1, 'hello', 3.14, True)\n",
      "Numbers: (1, 2, 3, 4)\n",
      "Single element tuple: ('apple',)\n"
     ]
    }
   ],
   "source": [
    "\n",
    "# Empty tuple\n",
    "empty_tuple = ()\n",
    "\n",
    "# Tuple with values\n",
    "fruits = (\"apple\", \"banana\", \"cherry\")\n",
    "\n",
    "# Tuple with mixed data types\n",
    "mixed = (1, \"hello\", 3.14, True)\n",
    "\n",
    "# Using tuple() constructor\n",
    "nums = tuple([1, 2, 3, 4])\n",
    "\n",
    "# Tuple with one element (comma is necessary)\n",
    "single = (\"apple\",)\n"
   ]
  },
  {
   "cell_type": "markdown",
   "id": "fbbff62f",
   "metadata": {},
   "source": [
    "## 🔎 Accessing Elements"
   ]
  },
  {
   "cell_type": "markdown",
   "id": "d8187df1",
   "metadata": {},
   "source": [
    "\n",
    "We can access tuple elements using:  \n",
    "- **Indexing** (positive & negative)  \n",
    "- **Slicing** (getting sub-parts)  \n"
   ]
  },
  {
   "cell_type": "code",
   "execution_count": null,
   "id": "4d53fac5",
   "metadata": {},
   "outputs": [],
   "source": [
    "\n",
    "fruits = (\"apple\", \"banana\", \"cherry\", \"mango\")\n",
    "\n",
    "print(\"First element:\", fruits[0])\n",
    "print(\"Last element:\", fruits[-1])\n",
    "print(\"Slice [1:3]:\", fruits[1:3])\n",
    "print(\"Reverse:\", fruits[::-1])\n"
   ]
  },
  {
   "cell_type": "markdown",
   "id": "45ca9aa8",
   "metadata": {},
   "source": [
    "## 🎛️ Tuple Operations"
   ]
  },
  {
   "cell_type": "markdown",
   "id": "8c6761b0",
   "metadata": {},
   "source": [
    "\n",
    "Tuples support operations like:  \n",
    "- **Concatenation (`+`)**  \n",
    "- **Repetition (`*`)**  \n",
    "- **Membership (`in`, `not in`)**  \n"
   ]
  },
  {
   "cell_type": "code",
   "execution_count": 3,
   "id": "9aaee09e",
   "metadata": {},
   "outputs": [
    {
     "name": "stdout",
     "output_type": "stream",
     "text": [
      "Concatenation: (1, 2, 3, 4)\n",
      "Repetition: (1, 2, 1, 2, 1, 2)\n",
      "Is 2 in tuple? True\n",
      "Is 5 not in tuple? True\n"
     ]
    }
   ],
   "source": [
    "\n",
    "a = (1, 2)\n",
    "b = (3, 4)\n",
    "\n",
    "# Concatenation\n",
    "print(\"Concatenation:\", a + b)\n",
    "\n",
    "# Repetition\n",
    "print(\"Repetition:\", a * 3)\n",
    "\n",
    "# Membership\n",
    "print(\"Is 2 in tuple?\", 2 in a)\n",
    "print(\"Is 5 not in tuple?\", 5 not in a)\n"
   ]
  },
  {
   "cell_type": "markdown",
   "id": "b6b8aede",
   "metadata": {},
   "source": [
    "## 🛠️ Tuple Methods"
   ]
  },
  {
   "cell_type": "markdown",
   "id": "b4cfc7fd",
   "metadata": {},
   "source": [
    "\n",
    "Tuples have only **two built-in methods**:  \n",
    "- `count(x)` → returns how many times `x` appears  \n",
    "- `index(x)` → returns the first index of `x`  \n"
   ]
  },
  {
   "cell_type": "code",
   "execution_count": 2,
   "id": "d79c5db5",
   "metadata": {},
   "outputs": [
    {
     "name": "stdout",
     "output_type": "stream",
     "text": [
      "Count of 2: 3\n",
      "Index of 3: 2\n"
     ]
    }
   ],
   "source": [
    "\n",
    "nums = (1, 2, 3, 2, 4, 2)\n",
    "\n",
    "print(\"Count of 2:\", nums.count(2))\n",
    "print(\"Index of 3:\", nums.index(3))\n"
   ]
  },
  {
   "cell_type": "markdown",
   "id": "7ef7574e",
   "metadata": {},
   "source": [
    "## 🔄 Iterating Over Tuples"
   ]
  },
  {
   "cell_type": "markdown",
   "id": "5b911b7e",
   "metadata": {},
   "source": [
    "\n",
    "We can iterate over tuples using:  \n",
    "1. **For loop**  \n",
    "2. **For loop with index**  \n",
    "3. **While loop**  \n"
   ]
  },
  {
   "cell_type": "code",
   "execution_count": null,
   "id": "e3fffede",
   "metadata": {},
   "outputs": [],
   "source": [
    "\n",
    "fruits = (\"apple\", \"banana\", \"cherry\")\n",
    "\n",
    "# For loop\n",
    "for f in fruits:\n",
    "    print(f)\n",
    "\n",
    "# With index\n",
    "for i in range(len(fruits)):\n",
    "    print(i, fruits[i])\n",
    "\n",
    "# While loop\n",
    "i = 0\n",
    "while i < len(fruits):\n",
    "    print(fruits[i])\n",
    "    i += 1\n"
   ]
  },
  {
   "cell_type": "markdown",
   "id": "0a2745a1",
   "metadata": {},
   "source": [
    "## 📦 Packing & Unpacking"
   ]
  },
  {
   "cell_type": "markdown",
   "id": "b64f3ca6",
   "metadata": {},
   "source": [
    "\n",
    "Tuples allow **packing** multiple values into one variable, and **unpacking** them back into variables.  \n"
   ]
  },
  {
   "cell_type": "code",
   "execution_count": 4,
   "id": "061f4ee3",
   "metadata": {},
   "outputs": [
    {
     "name": "stdout",
     "output_type": "stream",
     "text": [
      "Name: Ayushi\n",
      "Age: 23\n",
      "Profession: Engineer\n"
     ]
    }
   ],
   "source": [
    "\n",
    "# Packing\n",
    "person = (\"Ayushi\", 23, \"Engineer\")\n",
    "\n",
    "# Unpacking\n",
    "name, age, profession = person\n",
    "print(\"Name:\", name)\n",
    "print(\"Age:\", age)\n",
    "print(\"Profession:\", profession)\n"
   ]
  },
  {
   "cell_type": "markdown",
   "id": "467930e0",
   "metadata": {},
   "source": [
    "## 🧩 Nested Tuples"
   ]
  },
  {
   "cell_type": "markdown",
   "id": "e599fc76",
   "metadata": {},
   "source": [
    "\n",
    "Tuples can also contain **other tuples** inside them.  \n"
   ]
  },
  {
   "cell_type": "code",
   "execution_count": 5,
   "id": "65bab04f",
   "metadata": {},
   "outputs": [
    {
     "name": "stdout",
     "output_type": "stream",
     "text": [
      "Nested Tuple: (('a', 'b'), (1, 2, 3), ('x', 'y'))\n",
      "Access nested element: 3\n"
     ]
    }
   ],
   "source": [
    "\n",
    "nested = ((\"a\", \"b\"), (1, 2, 3), (\"x\", \"y\"))\n",
    "print(\"Nested Tuple:\", nested)\n",
    "print(\"Access nested element:\", nested[1][2])  # 3\n"
   ]
  },
  {
   "cell_type": "markdown",
   "id": "b0a0cc15",
   "metadata": {},
   "source": [
    "## 🧠 Quick Recap"
   ]
  },
  {
   "cell_type": "markdown",
   "id": "2d4d0742",
   "metadata": {},
   "source": [
    "\n",
    "- Tuple is like a **playlist** 🎵 → ordered & immutable  \n",
    "- Allows **duplicates** and **mixed data**  \n",
    "- Only **two methods** → `count()`, `index()`  \n",
    "- Useful for **fixed data** (coordinates, settings, constants)  \n"
   ]
  }
 ],
 "metadata": {
  "kernelspec": {
   "display_name": "base",
   "language": "python",
   "name": "python3"
  },
  "language_info": {
   "codemirror_mode": {
    "name": "ipython",
    "version": 3
   },
   "file_extension": ".py",
   "mimetype": "text/x-python",
   "name": "python",
   "nbconvert_exporter": "python",
   "pygments_lexer": "ipython3",
   "version": "3.13.5"
  }
 },
 "nbformat": 4,
 "nbformat_minor": 5
}
