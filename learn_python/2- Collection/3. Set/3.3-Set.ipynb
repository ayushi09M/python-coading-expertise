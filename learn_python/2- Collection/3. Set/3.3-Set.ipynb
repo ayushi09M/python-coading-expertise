{
 "cells": [
  {
   "cell_type": "markdown",
   "id": "5ec84afa",
   "metadata": {},
   "source": [
    "# 🎲 Python Set Tutorial\n"
   ]
  },
  {
   "cell_type": "markdown",
   "id": "709e1250",
   "metadata": {},
   "source": [
    "\n",
    "## 📖 What is a Set?\n",
    "A Set is an unordered collection of data which have no duplicates in it.\n",
    "\n",
    "A **Set** in Python is like a **box of unique toys** 🧸:  \n",
    "- Stores multiple items in a single variable.  \n",
    "- Items are **unordered** → no fixed position.  \n",
    "- **No duplicates allowed** → every element is unique.  \n",
    "- Supports mathematical set operations like **union, intersection, difference**.  \n",
    "\n",
    "Ex:  a Friend Cricle"
   ]
  },
  {
   "cell_type": "markdown",
   "id": "41c42a5d",
   "metadata": {},
   "source": [
    "## 🛠️ Creating Sets"
   ]
  },
  {
   "cell_type": "markdown",
   "id": "265ba90b",
   "metadata": {},
   "source": [
    "\n",
    "We can create sets using:  \n",
    "1. Curly braces `{}`  \n",
    "2. The `set()` constructor  \n",
    "⚠️ Note: An empty set must be created with `set()`, not `{}` (that creates a dictionary).  \n"
   ]
  },
  {
   "cell_type": "code",
   "execution_count": 1,
   "id": "aa394306",
   "metadata": {},
   "outputs": [
    {
     "name": "stdout",
     "output_type": "stream",
     "text": [
      "Empty set: set()\n",
      "Fruits: {'cherry', 'apple', 'banana'}\n",
      "Mixed set: {1, 3.14, 'hello'}\n",
      "Numbers (unique): {1, 2, 3, 4}\n"
     ]
    }
   ],
   "source": [
    "\n",
    "# Empty set\n",
    "empty_set = set()\n",
    "\n",
    "# Set with values\n",
    "fruits = {\"apple\", \"banana\", \"cherry\"}\n",
    "\n",
    "# Mixed data types\n",
    "mixed = {1, \"hello\", 3.14, True}\n",
    "\n",
    "# Using set() constructor\n",
    "nums = set([1, 2, 3, 4, 2, 1])\n"
   ]
  },
  {
   "cell_type": "markdown",
   "id": "79554d28",
   "metadata": {},
   "source": [
    "## 🔎 Accessing Elements"
   ]
  },
  {
   "cell_type": "markdown",
   "id": "b51ac9cd",
   "metadata": {},
   "source": [
    "\n",
    "Sets do not support indexing or slicing (because they are unordered).  \n",
    "We can only iterate over elements.  \n"
   ]
  },
  {
   "cell_type": "code",
   "execution_count": 1,
   "id": "1d05b1f6",
   "metadata": {},
   "outputs": [
    {
     "name": "stdout",
     "output_type": "stream",
     "text": [
      "apple\n",
      "banana\n",
      "cherry\n"
     ]
    }
   ],
   "source": [
    "\n",
    "fruits = {\"apple\", \"banana\", \"cherry\"}\n",
    "\n",
    "# Iterating through set\n",
    "for f in fruits:\n",
    "    print(f)\n"
   ]
  },
  {
   "cell_type": "markdown",
   "id": "c1f1ac45",
   "metadata": {},
   "source": [
    "## ➕➖ Adding and Removing Items"
   ]
  },
  {
   "cell_type": "markdown",
   "id": "0ce8e55d",
   "metadata": {},
   "source": [
    "\n",
    "We can add or remove items using set methods:  \n",
    "- `add(x)` → add an item  \n",
    "- `update(iterable)` → add multiple items  \n",
    "- `remove(x)` → remove item (gives error if not found)  \n",
    "- `discard(x)` → remove item (no error if not found)  \n",
    "- `pop()` → removes and returns a random item  \n",
    "- `clear()` → removes all items  \n"
   ]
  },
  {
   "cell_type": "code",
   "execution_count": 2,
   "id": "e3458f06",
   "metadata": {},
   "outputs": [
    {
     "name": "stdout",
     "output_type": "stream",
     "text": [
      "After add: {'apple', 'banana', 'cherry'}\n",
      "After update: {'mango', 'grapes', 'apple', 'banana', 'cherry'}\n",
      "After remove: {'mango', 'grapes', 'apple', 'cherry'}\n",
      "After discard pear: {'mango', 'grapes', 'apple', 'cherry'}\n",
      "Popped: mango\n",
      "After pop: {'grapes', 'apple', 'cherry'}\n",
      "After clear: set()\n"
     ]
    }
   ],
   "source": [
    "\n",
    "fruits = {\"apple\", \"banana\"}\n",
    "\n",
    "# Add items\n",
    "fruits.add(\"cherry\")\n",
    "print(\"After add:\", fruits)\n",
    "\n",
    "# Add multiple items\n",
    "fruits.update([\"mango\", \"grapes\"])\n",
    "print(\"After update:\", fruits)\n",
    "\n",
    "# Remove\n",
    "fruits.remove(\"banana\")\n",
    "print(\"After remove:\", fruits)\n",
    "\n",
    "# Discard (no error if item not present)\n",
    "fruits.discard(\"pear\")\n",
    "print(\"After discard pear:\", fruits)\n",
    "\n",
    "# Pop random element\n",
    "removed = fruits.pop()\n",
    "print(\"Popped:\", removed)\n",
    "print(\"After pop:\", fruits)\n",
    "\n",
    "# Clear all\n",
    "fruits.clear()\n",
    "print(\"After clear:\", fruits)\n"
   ]
  },
  {
   "cell_type": "markdown",
   "id": "2e0f55e1",
   "metadata": {},
   "source": [
    "## 🎛️ Set Operations"
   ]
  },
  {
   "cell_type": "markdown",
   "id": "6dd6b121",
   "metadata": {},
   "source": [
    "\n",
    "Python sets support mathematical operations:  \n",
    "- `union()` / `|` → all unique elements  \n",
    "- `intersection()` / `&` → common elements  \n",
    "- `difference()` / `-` → elements in first set but not in second (Except Common element)\n",
    "- `symmetric_difference()` / `^` → elements in either set but not both  \n"
   ]
  },
  {
   "cell_type": "code",
   "execution_count": 3,
   "id": "83d58e92",
   "metadata": {},
   "outputs": [
    {
     "name": "stdout",
     "output_type": "stream",
     "text": [
      "Union: {1, 2, 3, 4, 5, 6}\n",
      "Intersection: {3, 4}\n",
      "Difference (a-b): {1, 2}\n",
      "Symmetric Difference: {1, 2, 5, 6}\n",
      "Union with | : {1, 2, 3, 4, 5, 6}\n",
      "Intersection with & : {3, 4}\n",
      "Difference with - : {1, 2}\n",
      "Symmetric Difference with ^ : {1, 2, 5, 6}\n"
     ]
    }
   ],
   "source": [
    "\n",
    "a = {1, 2, 3, 4}\n",
    "b = {3, 4, 5, 6}\n",
    "\n",
    "print(\"Union:\", a.union(b))\n",
    "print(\"Intersection:\", a.intersection(b))\n",
    "print(\"Difference (a-b):\", a.difference(b))\n",
    "print(\"Symmetric Difference:\", a.symmetric_difference(b))\n",
    "\n",
    "# Operators\n",
    "print(\"Union with | :\", a | b)\n",
    "print(\"Intersection with & :\", a & b)\n",
    "print(\"Difference with - :\", a - b)\n",
    "print(\"Symmetric Difference with ^ :\", a ^ b)\n"
   ]
  },
  {
   "cell_type": "markdown",
   "id": "4655b1bf",
   "metadata": {},
   "source": [
    "## 🔍 Membership Test"
   ]
  },
  {
   "cell_type": "markdown",
   "id": "30495d5c",
   "metadata": {},
   "source": [
    "\n",
    "We can check membership using `in` and `not in`.  \n"
   ]
  },
  {
   "cell_type": "code",
   "execution_count": 4,
   "id": "2c7158c3",
   "metadata": {},
   "outputs": [
    {
     "name": "stdout",
     "output_type": "stream",
     "text": [
      "True\n",
      "True\n"
     ]
    }
   ],
   "source": [
    "\n",
    "fruits = {\"apple\", \"banana\", \"cherry\"}\n",
    "\n",
    "print(\"apple\" in fruits)     # True\n",
    "print(\"mango\" not in fruits) # True\n"
   ]
  },
  {
   "cell_type": "markdown",
   "id": "1e56c7fa",
   "metadata": {},
   "source": [
    "## 🔄 Iterating Over a Set"
   ]
  },
  {
   "cell_type": "markdown",
   "id": "03fa4812",
   "metadata": {},
   "source": [
    "\n",
    "We can iterate through a set using loops.  \n"
   ]
  },
  {
   "cell_type": "code",
   "execution_count": 5,
   "id": "343e5454",
   "metadata": {},
   "outputs": [
    {
     "name": "stdout",
     "output_type": "stream",
     "text": [
      "apple\n",
      "banana\n",
      "cherry\n"
     ]
    }
   ],
   "source": [
    "\n",
    "fruits = {\"apple\", \"banana\", \"cherry\"}\n",
    "\n",
    "for fruit in fruits:\n",
    "    print(fruit)\n"
   ]
  },
  {
   "cell_type": "markdown",
   "id": "f0b011dd",
   "metadata": {},
   "source": [
    "## ❄️ Frozen Sets"
   ]
  },
  {
   "cell_type": "markdown",
   "id": "b178e3cc",
   "metadata": {},
   "source": [
    "\n",
    "A **frozenset** is an **immutable set** → once created, it cannot be changed.  \n",
    "Useful when we need a constant set.  \n"
   ]
  },
  {
   "cell_type": "code",
   "execution_count": 6,
   "id": "95731cdd",
   "metadata": {},
   "outputs": [
    {
     "name": "stdout",
     "output_type": "stream",
     "text": [
      "Frozen Set: frozenset({1, 2, 3})\n"
     ]
    }
   ],
   "source": [
    "\n",
    "fs = frozenset([1, 2, 3, 2])\n",
    "print(\"Frozen Set:\", fs)\n",
    "\n",
    "# fs.add(4)  # ❌ Error: cannot add to frozenset\n"
   ]
  },
  {
   "cell_type": "markdown",
   "id": "b7f4ec9e",
   "metadata": {},
   "source": [
    "## 🧠 Quick Recap"
   ]
  },
  {
   "cell_type": "markdown",
   "id": "bdb72b78",
   "metadata": {},
   "source": [
    "\n",
    "- **Set** → unordered, unique elements  \n",
    "- **Add items** → `add()`, `update()`  \n",
    "- **Remove items** → `remove()`, `discard()`, `pop()`, `clear()`  \n",
    "- **Operations** → union, intersection, difference, symmetric_difference  \n",
    "- **Immutable version** → `frozenset`  \n"
   ]
  }
 ],
 "metadata": {
  "kernelspec": {
   "display_name": "base",
   "language": "python",
   "name": "python3"
  },
  "language_info": {
   "codemirror_mode": {
    "name": "ipython",
    "version": 3
   },
   "file_extension": ".py",
   "mimetype": "text/x-python",
   "name": "python",
   "nbconvert_exporter": "python",
   "pygments_lexer": "ipython3",
   "version": "3.13.5"
  }
 },
 "nbformat": 4,
 "nbformat_minor": 5
}
